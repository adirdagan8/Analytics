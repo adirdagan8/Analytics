{
 "cells": [
  {
   "cell_type": "markdown",
   "id": "6fe4ed1d",
   "metadata": {},
   "source": [
    "# Scraping Booking"
   ]
  },
  {
   "cell_type": "code",
   "execution_count": 1,
   "id": "5ecfb366",
   "metadata": {},
   "outputs": [
    {
     "name": "stdout",
     "output_type": "stream",
     "text": [
      "Requirement already satisfied: selenium in c:\\users\\yehus\\anaconda3\\lib\\site-packages (4.7.2)\n",
      "Requirement already satisfied: trio~=0.17 in c:\\users\\yehus\\anaconda3\\lib\\site-packages (from selenium) (0.22.0)\n",
      "Requirement already satisfied: urllib3[socks]~=1.26 in c:\\users\\yehus\\anaconda3\\lib\\site-packages (from selenium) (1.26.11)\n",
      "Requirement already satisfied: certifi>=2021.10.8 in c:\\users\\yehus\\anaconda3\\lib\\site-packages (from selenium) (2022.9.14)\n",
      "Requirement already satisfied: trio-websocket~=0.9 in c:\\users\\yehus\\anaconda3\\lib\\site-packages (from selenium) (0.9.2)\n",
      "Requirement already satisfied: async-generator>=1.9 in c:\\users\\yehus\\anaconda3\\lib\\site-packages (from trio~=0.17->selenium) (1.10)\n",
      "Requirement already satisfied: sortedcontainers in c:\\users\\yehus\\anaconda3\\lib\\site-packages (from trio~=0.17->selenium) (2.4.0)\n",
      "Requirement already satisfied: outcome in c:\\users\\yehus\\anaconda3\\lib\\site-packages (from trio~=0.17->selenium) (1.2.0)\n",
      "Requirement already satisfied: cffi>=1.14 in c:\\users\\yehus\\anaconda3\\lib\\site-packages (from trio~=0.17->selenium) (1.15.1)\n",
      "Requirement already satisfied: exceptiongroup>=1.0.0rc9 in c:\\users\\yehus\\anaconda3\\lib\\site-packages (from trio~=0.17->selenium) (1.1.0)\n",
      "Requirement already satisfied: sniffio in c:\\users\\yehus\\anaconda3\\lib\\site-packages (from trio~=0.17->selenium) (1.2.0)\n",
      "Requirement already satisfied: attrs>=19.2.0 in c:\\users\\yehus\\anaconda3\\lib\\site-packages (from trio~=0.17->selenium) (21.4.0)\n",
      "Requirement already satisfied: idna in c:\\users\\yehus\\anaconda3\\lib\\site-packages (from trio~=0.17->selenium) (3.3)\n",
      "Requirement already satisfied: wsproto>=0.14 in c:\\users\\yehus\\anaconda3\\lib\\site-packages (from trio-websocket~=0.9->selenium) (1.2.0)\n",
      "Requirement already satisfied: PySocks!=1.5.7,<2.0,>=1.5.6 in c:\\users\\yehus\\anaconda3\\lib\\site-packages (from urllib3[socks]~=1.26->selenium) (1.7.1)\n",
      "Requirement already satisfied: pycparser in c:\\users\\yehus\\anaconda3\\lib\\site-packages (from cffi>=1.14->trio~=0.17->selenium) (2.21)\n",
      "Requirement already satisfied: h11<1,>=0.9.0 in c:\\users\\yehus\\anaconda3\\lib\\site-packages (from wsproto>=0.14->trio-websocket~=0.9->selenium) (0.14.0)\n",
      "Note: you may need to restart the kernel to use updated packages.\n"
     ]
    }
   ],
   "source": [
    "pip install selenium"
   ]
  },
  {
   "cell_type": "code",
   "execution_count": 2,
   "id": "079ba2c1",
   "metadata": {},
   "outputs": [],
   "source": [
    "\n",
    "import http\n",
    "import requests\n",
    "import os\n",
    "import pandas as pd\n",
    "from IPython.display import display, HTML\n",
    "import random\n",
    "import time\n",
    "from selenium import webdriver\n",
    "from selenium.webdriver.chrome.service import Service\n",
    "from selenium.webdriver.common.keys import Keys\n",
    "from selenium.webdriver.chrome.options import Options\n",
    "from selenium.webdriver.common.by import By\n",
    "from webdriver_manager.chrome import ChromeDriverManager\n",
    "from selenium.webdriver.support.ui import WebDriverWait\n",
    "from selenium.webdriver.support import expected_conditions as EC\n",
    "from selenium.webdriver.common.by import By\n",
    "from selenium.common.exceptions import TimeoutException\n",
    "from datetime import datetime , timedelta\n",
    "import warnings \n",
    "warnings.filterwarnings(\"ignore\")"
   ]
  },
  {
   "cell_type": "code",
   "execution_count": 3,
   "id": "048578b0",
   "metadata": {},
   "outputs": [],
   "source": [
    "#get today's date\n",
    "now = datetime.now()\n",
    "snapshot_date = now\n",
    "#get end date 30 days from now\n",
    "end_date = now + timedelta(days = 35)\n",
    "#create a list of all dates between today and end date\n",
    "date_list = []\n",
    "while (now<= end_date):\n",
    "    date_list.append(now.strftime('%Y-%m-%d'))\n",
    "    now+=timedelta(days=1)\n",
    "combination_list = []\n",
    "for i in range(1,len(date_list)-5):\n",
    "    for j in range(1,6):\n",
    "        combinations = [date_list[i], date_list[i+j]]\n",
    "        combination_list.append(combinations)\n",
    "#print(combination_list ,len(combination_list))\n"
   ]
  },
  {
   "cell_type": "code",
   "execution_count": 4,
   "id": "160d0557",
   "metadata": {},
   "outputs": [
    {
     "data": {
      "text/plain": [
       "150"
      ]
     },
     "execution_count": 4,
     "metadata": {},
     "output_type": "execute_result"
    }
   ],
   "source": [
    "len(combination_list)"
   ]
  },
  {
   "cell_type": "code",
   "execution_count": 5,
   "id": "ee74348b",
   "metadata": {},
   "outputs": [
    {
     "data": {
      "text/plain": [
       "36"
      ]
     },
     "execution_count": 5,
     "metadata": {},
     "output_type": "execute_result"
    }
   ],
   "source": [
    "len(date_list)"
   ]
  },
  {
   "cell_type": "code",
   "execution_count": 6,
   "id": "3330edf6",
   "metadata": {},
   "outputs": [],
   "source": [
    "#print(f\"https://www.booking.com/searchresults.html?aid=304142&label=gen173nr-1FCAEoggI46AdIDlgEaGqIAQGYAQ64ARfIAQzYAQHoAQH4AQKIAgGoAgO4AsOw654GwAIB0gIkNDMwYjc3ZTQtODliMi00MWNlLWEzY2UtM2VkMDA1ZWE1Mjdi2AIF4AIB&sid=42e5df515125fa542ebf73a3cb44ab8b&tmpl=searchresults&checkin={combination_list[0][0]}&checkout={combination_list[0][1]}&class_interval=1&dest_id=20088325&dest_type=city&dtdisc=0&efdco=1&group_adults=2&group_children=0&inac=0&index_postcard=0&label_click=undef&lang=en-us&no_rooms=1&offset=0&postcard=0&raw_dest_type=city&room1=A%2CA&sb_price_type=total&sb_travel_purpose=leisure&shw_aparth=1&slp_r_match=0&soz=1&src=searchresults&src_elem=sb&srpvid=527140c0e6400072&ss=%D7%A0%D7%99%D7%95%20%D7%99%D7%95%D7%A8%D7%A7&ss_all=0&ssb=empty&sshis=0&ssne=%D7%A0%D7%99%D7%95%20%D7%99%D7%95%D7%A8%D7%A7&ssne_untouched=%D7%A0%D7%99%D7%95%20%D7%99%D7%95%D7%A8%D7%A7&lang_click=other&cdl=he&lang_changed=1\")"
   ]
  },
  {
   "cell_type": "code",
   "execution_count": 7,
   "id": "40925dbb",
   "metadata": {},
   "outputs": [],
   "source": [
    "#put the dates in the url for the scrapping\n",
    "url_list = []\n",
    "for i in combination_list:\n",
    "    url_list.append(f\"https://www.booking.com/searchresults.html?aid=304142&label=gen173nr-1FCAEoggI46AdIDlgEaGqIAQGYAQ64ARfIAQzYAQHoAQH4AQKIAgGoAgO4AsOw654GwAIB0gIkNDMwYjc3ZTQtODliMi00MWNlLWEzY2UtM2VkMDA1ZWE1Mjdi2AIF4AIB&sid=42e5df515125fa542ebf73a3cb44ab8b&tmpl=searchresults&checkin={i[0]}&checkout={i[1]}&class_interval=1&dest_id=20088325&dest_type=city&dtdisc=0&efdco=1&group_adults=2&group_children=0&inac=0&index_postcard=0&label_click=undef&lang=en-us&no_rooms=1&offset=0&postcard=0&raw_dest_type=city&room1=A%2CA&sb_price_type=total&sb_travel_purpose=leisure&shw_aparth=1&slp_r_match=0&soz=1&src=searchresults&src_elem=sb&srpvid=527140c0e6400072&ss=%D7%A0%D7%99%D7%95%20%D7%99%D7%95%D7%A8%D7%A7&ss_all=0&ssb=empty&sshis=0&ssne=%D7%A0%D7%99%D7%95%20%D7%99%D7%95%D7%A8%D7%A7&ssne_untouched=%D7%A0%D7%99%D7%95%20%D7%99%D7%95%D7%A8%D7%A7&lang_click=other&cdl=he&lang_changed=1\")"
   ]
  },
  {
   "cell_type": "code",
   "execution_count": 8,
   "id": "3caba0cb",
   "metadata": {},
   "outputs": [
    {
     "data": {
      "text/plain": [
       "150"
      ]
     },
     "execution_count": 8,
     "metadata": {},
     "output_type": "execute_result"
    }
   ],
   "source": [
    "len(url_list)"
   ]
  },
  {
   "cell_type": "code",
   "execution_count": 9,
   "id": "49e13016",
   "metadata": {},
   "outputs": [
    {
     "data": {
      "text/plain": [
       "'https://www.booking.com/searchresults.html?aid=304142&label=gen173nr-1FCAEoggI46AdIDlgEaGqIAQGYAQ64ARfIAQzYAQHoAQH4AQKIAgGoAgO4AsOw654GwAIB0gIkNDMwYjc3ZTQtODliMi00MWNlLWEzY2UtM2VkMDA1ZWE1Mjdi2AIF4AIB&sid=42e5df515125fa542ebf73a3cb44ab8b&tmpl=searchresults&checkin=2023-04-16&checkout=2023-04-17&class_interval=1&dest_id=20088325&dest_type=city&dtdisc=0&efdco=1&group_adults=2&group_children=0&inac=0&index_postcard=0&label_click=undef&lang=en-us&no_rooms=1&offset=0&postcard=0&raw_dest_type=city&room1=A%2CA&sb_price_type=total&sb_travel_purpose=leisure&shw_aparth=1&slp_r_match=0&soz=1&src=searchresults&src_elem=sb&srpvid=527140c0e6400072&ss=%D7%A0%D7%99%D7%95%20%D7%99%D7%95%D7%A8%D7%A7&ss_all=0&ssb=empty&sshis=0&ssne=%D7%A0%D7%99%D7%95%20%D7%99%D7%95%D7%A8%D7%A7&ssne_untouched=%D7%A0%D7%99%D7%95%20%D7%99%D7%95%D7%A8%D7%A7&lang_click=other&cdl=he&lang_changed=1'"
      ]
     },
     "execution_count": 9,
     "metadata": {},
     "output_type": "execute_result"
    }
   ],
   "source": [
    "url_list[100]"
   ]
  },
  {
   "cell_type": "code",
   "execution_count": 10,
   "id": "35e1d3b1",
   "metadata": {},
   "outputs": [],
   "source": [
    "#create lists for the dataFrame\n",
    "\n",
    "Name = []\n",
    "Location = []\n",
    "Distance = []\n",
    "Rate = []\n",
    "Grade = []\n",
    "Price = []\n",
    "Review = []\n",
    "TypeRoom = []\n",
    "TypeBed = []\n",
    "CancellationPolicy = []\n",
    "DateOfVacation = []\n",
    "numOfNights = []\n",
    "TimeToTravel = []"
   ]
  },
  {
   "cell_type": "code",
   "execution_count": 11,
   "id": "93b1ecdb",
   "metadata": {},
   "outputs": [
    {
     "data": {
      "text/plain": [
       "[]"
      ]
     },
     "execution_count": 11,
     "metadata": {},
     "output_type": "execute_result"
    }
   ],
   "source": [
    "Name"
   ]
  },
  {
   "cell_type": "code",
   "execution_count": 12,
   "id": "b4edacf2",
   "metadata": {},
   "outputs": [],
   "source": [
    "#checking\n",
    "#print(HotelsInPage[0].find_element(By.XPATH,'.//*[@class=\"fcab3ed991 a23c043802\"]').text)\n",
    "#nextPage.click()\n",
    "#time.sleep(1)\n",
    "#print(HotelsInPage[0].find_element(By.XPATH,'.//*[@class=\"fcab3ed991 a23c043802\"]').text)\n",
    "#nextPage.click()"
   ]
  },
  {
   "cell_type": "code",
   "execution_count": null,
   "id": "9fb10e9f",
   "metadata": {},
   "outputs": [],
   "source": []
  },
  {
   "cell_type": "code",
   "execution_count": 13,
   "id": "0e9dbea7",
   "metadata": {},
   "outputs": [
    {
     "data": {
      "text/plain": [
       "150"
      ]
     },
     "execution_count": 13,
     "metadata": {},
     "output_type": "execute_result"
    }
   ],
   "source": [
    "#the nights of the combinations\n",
    "strings = [\"1 night\", \"2 nights\", \"3 nights\", \"4 nights\", \"5 nights\"]\n",
    "numOfN = []\n",
    "\n",
    "for i in range(30):\n",
    "    for string in strings:\n",
    "        numOfN.append(string)\n",
    "\n",
    "len(numOfN)\n",
    "#numOfN"
   ]
  },
  {
   "cell_type": "code",
   "execution_count": 14,
   "id": "68b3e3c9",
   "metadata": {},
   "outputs": [
    {
     "data": {
      "text/plain": [
       "150"
      ]
     },
     "execution_count": 14,
     "metadata": {},
     "output_type": "execute_result"
    }
   ],
   "source": [
    "#the nights of the combinations\n",
    "\n",
    "Date = []\n",
    "\n",
    "for string in combination_list:\n",
    "        Date.append(string[0] +\"-\"+ string[1])\n",
    "\n",
    "#Date\n",
    "\n",
    "len(Date)"
   ]
  },
  {
   "cell_type": "code",
   "execution_count": 15,
   "id": "09772c44",
   "metadata": {},
   "outputs": [
    {
     "data": {
      "text/plain": [
       "15000"
      ]
     },
     "execution_count": 15,
     "metadata": {},
     "output_type": "execute_result"
    }
   ],
   "source": [
    "#snapShot date\n",
    "string = date_list[0]\n",
    "SnapShotDate = []\n",
    "\n",
    "for i in range(15000):\n",
    "        SnapShotDate.append(string)\n",
    "#SnapShotDate\n",
    "len(SnapShotDate)       "
   ]
  },
  {
   "cell_type": "code",
   "execution_count": 16,
   "id": "ff46051a",
   "metadata": {},
   "outputs": [
    {
     "data": {
      "text/plain": [
       "150"
      ]
     },
     "execution_count": 16,
     "metadata": {},
     "output_type": "execute_result"
    }
   ],
   "source": [
    "#how much time left to the checkIn date\n",
    "TimeTo = []\n",
    "times = 0\n",
    "for i in range(30):\n",
    "    times +=1\n",
    "    for i in range(5):   \n",
    "        TimeTo.append(times)\n",
    "\n",
    "len(TimeTo)\n",
    "#TimeTo"
   ]
  },
  {
   "cell_type": "code",
   "execution_count": 17,
   "id": "de32407c",
   "metadata": {},
   "outputs": [],
   "source": [
    "booking = webdriver.Chrome('/Users/MyUsername/Downloads/chromedriver')"
   ]
  },
  {
   "cell_type": "code",
   "execution_count": 18,
   "id": "020b1b4d",
   "metadata": {},
   "outputs": [],
   "source": [
    "#booking.get(url_list[100])"
   ]
  },
  {
   "cell_type": "code",
   "execution_count": 19,
   "id": "6c3dc7c3",
   "metadata": {},
   "outputs": [],
   "source": [
    "#len(booking.find_elements(By.XPATH,'.//*[@class=\"a826ba81c4 fe821aea6c fa2f36ad22 afd256fc79 d08f526e0d ed11e24d01 ef9845d4b3 da89aeb942\"]'))"
   ]
  },
  {
   "cell_type": "raw",
   "id": "9054d427",
   "metadata": {},
   "source": [
    "#checking\n",
    "k=0\n",
    "for url in url_list:\n",
    "    booking.get(url)\n",
    "    nextPage = booking.find_element(By.XPATH, '//*[@class=\"fc63351294 a822bdf511 e3c025e003 fa565176a8 f7db01295e c334e6f658 e1b7cfea84 f9d6150b8e\"]')\n",
    "    i = 0\n",
    "    while(i < 100): \n",
    "        \n",
    "        for curHotel in booking.find_elements(By.XPATH,'.//*[@class=\"a826ba81c4 fe821aea6c fa2f36ad22 afd256fc79 d08f526e0d ed11e24d01 ef9845d4b3 da89aeb942\"]'):\n",
    "                \n",
    "            try:\n",
    "                print('\\n',i,\")\",curHotel.find_element(By.XPATH,'.//*[@class=\"fcab3ed991 a23c043802\"]').text)    \n",
    "                \n",
    "                try:\n",
    "                    print(curHotel.find_element(By.XPATH,'.//*[@class=\"f4bd0794db b4273d69aa\"]').text)\n",
    "                except:\n",
    "                    print(\"Unknown\")\n",
    "                try:\n",
    "                    print(curHotel.find_elements(By.XPATH,'.//*[@class=\"b5cd09854e d10a6220b4\"]')[0].text)\n",
    "                except:\n",
    "                    print(\"Unknown\")  \n",
    "                try:\n",
    "                    print(curHotel.find_element(By.XPATH,'.//*[@class=\"f4bd0794db\"]').text)\n",
    "                except:\n",
    "                    print(\"Unknown\")\n",
    "                print(curHotel.find_element(By.XPATH,'.//*[@class=\"d8eab2cf7f c90c0a70d3 db63693c62\"]').text)\n",
    "                try:\n",
    "                    print(curHotel.find_elements(By.XPATH,'.//*[@class=\"b5cd09854e f0d4d6a2f5 e46e88563a\"]')[0].text)\n",
    "                except:\n",
    "                    print(\"Unknown\")\n",
    "                print(curHotel.find_element(By.XPATH,'.//*[@class=\"fcab3ed991 fbd1d3018c e729ed5ab6\"]').text)\n",
    "                try:\n",
    "                    print(curHotel.find_element(By.XPATH,'.//*[@class=\"df597226dd\"]').text)\n",
    "                except:\n",
    "                    print(\"Unknown\")\n",
    "                try:    \n",
    "                    print(curHotel.find_element(By.XPATH,'.//*[@class=\"cb5b4b68a4\"]').text)\n",
    "                except:\n",
    "                    print(\"Unknown\")\n",
    "                try:    \n",
    "                    print(curHotel.find_element(By.XPATH,'.//*[@class=\"d506630cf3\"]').text)\n",
    "                except:\n",
    "                    print(\"Prepayment\")\n",
    "                print(numOfN[k])\n",
    "                print(TimeTo[k])\n",
    "                print(Date[k])\n",
    "\n",
    "            except:\n",
    "                print(\"Error\" , i)\n",
    "                i-=1\n",
    "                print(i)\n",
    "            i+=1\n",
    "            if (i == 100):\n",
    "                break\n",
    "                \n",
    "        nextPage.click()\n",
    "        time.sleep(2)\n",
    "        \n",
    "    k+=1\n",
    "           "
   ]
  },
  {
   "cell_type": "code",
   "execution_count": 20,
   "id": "ba6f1cf9",
   "metadata": {},
   "outputs": [],
   "source": [
    "#len(booking.find_elements(By.XPATH,'.//*[@class=\"a826ba81c4 fe821aea6c fa2f36ad22 afd256fc79 d08f526e0d ed11e24d01 ef9845d4b3 da89aeb942\"]'))"
   ]
  },
  {
   "cell_type": "code",
   "execution_count": 21,
   "id": "8fb9c6a6",
   "metadata": {},
   "outputs": [],
   "source": [
    "#fill the lists with the values\n",
    "k = 0\n",
    "for url in url_list:\n",
    "    try:\n",
    "        booking.get(url)\n",
    "        nextPage = booking.find_element(By.XPATH, '//*[@class=\"fc63351294 a822bdf511 e3c025e003 fa565176a8 f7db01295e c334e6f658 e1b7cfea84 f9d6150b8e\"]')\n",
    "    except:\n",
    "        booking.quit()\n",
    "        booking = webdriver.Chrome('/Users/MyUsername/Downloads/chromedriver')\n",
    "        booking.get(url)\n",
    "        nextPage = booking.find_element(By.XPATH, '//*[@class=\"fc63351294 a822bdf511 e3c025e003 fa565176a8 f7db01295e c334e6f658 e1b7cfea84 f9d6150b8e\"]')\n",
    "    i = 0\n",
    "    while(i < 100):\n",
    "        \n",
    "        for curHotel in booking.find_elements(By.XPATH,'.//*[@class=\"a826ba81c4 fe821aea6c fa2f36ad22 afd256fc79 d08f526e0d ed11e24d01 ef9845d4b3 da89aeb942\"]'):\n",
    "            \n",
    "            try:\n",
    "                Name.append(curHotel.find_element(By.XPATH,'.//*[@class=\"fcab3ed991 a23c043802\"]').text)\n",
    "                try:\n",
    "                    Location.append(curHotel.find_element(By.XPATH,'.//*[@class=\"f4bd0794db b4273d69aa\"]').text)\n",
    "                except:\n",
    "                    Location.append(\"Unknown\")\n",
    "                try:\n",
    "                    Rate.append(curHotel.find_elements(By.XPATH,'.//*[@class=\"b5cd09854e d10a6220b4\"]')[0].text)\n",
    "                except:\n",
    "                    Rate.append(\"Unknown\")  \n",
    "                try:\n",
    "                    Distance.append(curHotel.find_element(By.XPATH,'.//*[@class=\"f4bd0794db\"]').text)\n",
    "                except:\n",
    "                    Distance.append(\"Unknown\")\n",
    "                try:\n",
    "                    Review.append(curHotel.find_element(By.XPATH,'.//*[@class=\"d8eab2cf7f c90c0a70d3 db63693c62\"]').text)\n",
    "                except:\n",
    "                    Review.append(\"Unknown\")\n",
    "                try:\n",
    "                    Grade.append(curHotel.find_elements(By.XPATH,'.//*[@class=\"b5cd09854e f0d4d6a2f5 e46e88563a\"]')[0].text)\n",
    "                except:\n",
    "                    Grade.append(\"Unknown\")\n",
    "                try:    \n",
    "                    Price.append(curHotel.find_element(By.XPATH,'.//*[@class=\"fcab3ed991 fbd1d3018c e729ed5ab6\"]').text)\n",
    "                except:\n",
    "                    Price.append(\"Unknown\")\n",
    "                try:\n",
    "                    TypeRoom.append(curHotel.find_element(By.XPATH,'.//*[@class=\"df597226dd\"]').text)\n",
    "                except:\n",
    "                    TypeRoom.append(\"Unknown\")\n",
    "                try:    \n",
    "                    TypeBed.append(curHotel.find_element(By.XPATH,'.//*[@class=\"cb5b4b68a4\"]').text)\n",
    "                except:\n",
    "                    TypeBed.append(\"Unknown\")\n",
    "                try:    \n",
    "                    CancellationPolicy.append(curHotel.find_element(By.XPATH,'.//*[@class=\"d506630cf3\"]').text)\n",
    "                except:\n",
    "                    CancellationPolicy.append(\"Prepayment\")\n",
    "                    \n",
    "                numOfNights.append(numOfN[k])\n",
    "                TimeToTravel.append(TimeTo[k])\n",
    "                DateOfVacation.append(Date[k])  \n",
    "                \n",
    "            except:\n",
    "                print(\"Error\" , i)\n",
    "                i = i - 1\n",
    "            \n",
    "            i = i + 1\n",
    "            if (i == 100):\n",
    "                break\n",
    "        nextPage.click()\n",
    "        time.sleep(2)\n",
    "        \n",
    "    k = k + 1    \n",
    "   \n",
    "        "
   ]
  },
  {
   "cell_type": "code",
   "execution_count": 24,
   "id": "a5011fc8",
   "metadata": {},
   "outputs": [
    {
     "data": {
      "text/plain": [
       "15000"
      ]
     },
     "execution_count": 24,
     "metadata": {},
     "output_type": "execute_result"
    }
   ],
   "source": [
    "len(Price)"
   ]
  },
  {
   "cell_type": "code",
   "execution_count": 25,
   "id": "32e04e78",
   "metadata": {},
   "outputs": [],
   "source": [
    "#fill the holes in the lists with nulls\n",
    "def fillingHolesInLists(size):\n",
    "    columns = [Name ,Location,Distance,Rate,Grade,Price,Review,TypeRoom,TypeBed,CancellationPolicy,numOfNights,TimeToTravel,DateOfVacation,SnapShotDate]\n",
    "    for i in columns:\n",
    "        if len(i) < size :\n",
    "            i+= [None for i in range(size - len(i))]"
   ]
  },
  {
   "cell_type": "code",
   "execution_count": 26,
   "id": "13f15617",
   "metadata": {},
   "outputs": [],
   "source": [
    "fillingHolesInLists(16100)"
   ]
  },
  {
   "cell_type": "code",
   "execution_count": 27,
   "id": "b442d95f",
   "metadata": {},
   "outputs": [
    {
     "data": {
      "text/plain": [
       "16100"
      ]
     },
     "execution_count": 27,
     "metadata": {},
     "output_type": "execute_result"
    }
   ],
   "source": [
    "len(Name)"
   ]
  },
  {
   "cell_type": "code",
   "execution_count": 28,
   "id": "20d0871a",
   "metadata": {},
   "outputs": [
    {
     "data": {
      "text/html": [
       "<div>\n",
       "<style scoped>\n",
       "    .dataframe tbody tr th:only-of-type {\n",
       "        vertical-align: middle;\n",
       "    }\n",
       "\n",
       "    .dataframe tbody tr th {\n",
       "        vertical-align: top;\n",
       "    }\n",
       "\n",
       "    .dataframe thead th {\n",
       "        text-align: right;\n",
       "    }\n",
       "</style>\n",
       "<table border=\"1\" class=\"dataframe\">\n",
       "  <thead>\n",
       "    <tr style=\"text-align: right;\">\n",
       "      <th></th>\n",
       "      <th>Name</th>\n",
       "      <th>Location</th>\n",
       "      <th>Distance</th>\n",
       "      <th>Rate</th>\n",
       "      <th>Grade</th>\n",
       "      <th>Price</th>\n",
       "      <th>Review</th>\n",
       "      <th>TypeRoom</th>\n",
       "      <th>TypeBed</th>\n",
       "      <th>CancellationPolicy</th>\n",
       "      <th>DateOfVacation</th>\n",
       "      <th>SnapShotDate</th>\n",
       "      <th>numOfNights</th>\n",
       "      <th>TimeToTravel</th>\n",
       "    </tr>\n",
       "  </thead>\n",
       "  <tbody>\n",
       "    <tr>\n",
       "      <th>0</th>\n",
       "      <td>Graduate New York</td>\n",
       "      <td>New York</td>\n",
       "      <td>2.6 km from center</td>\n",
       "      <td>8.5</td>\n",
       "      <td>Very Good</td>\n",
       "      <td>₪ 608</td>\n",
       "      <td>2,162 reviews</td>\n",
       "      <td>Graduate King - Accessible</td>\n",
       "      <td>1 king bed</td>\n",
       "      <td>Prepayment</td>\n",
       "      <td>2023-03-27-2023-03-28</td>\n",
       "      <td>2023-03-26</td>\n",
       "      <td>1 night</td>\n",
       "      <td>1.0</td>\n",
       "    </tr>\n",
       "    <tr>\n",
       "      <th>1</th>\n",
       "      <td>Margaritaville Resort Times Square</td>\n",
       "      <td>Manhattan, New York</td>\n",
       "      <td>1.5 km from center</td>\n",
       "      <td>8.8</td>\n",
       "      <td>Excellent</td>\n",
       "      <td>₪ 643</td>\n",
       "      <td>1,470 reviews</td>\n",
       "      <td>Standard Queen Room</td>\n",
       "      <td>1 queen bed</td>\n",
       "      <td>Prepayment</td>\n",
       "      <td>2023-03-27-2023-03-28</td>\n",
       "      <td>2023-03-26</td>\n",
       "      <td>1 night</td>\n",
       "      <td>1.0</td>\n",
       "    </tr>\n",
       "    <tr>\n",
       "      <th>2</th>\n",
       "      <td>The Tillary Hotel Brooklyn</td>\n",
       "      <td>Downtown Brooklyn, Brooklyn</td>\n",
       "      <td>8 km from center</td>\n",
       "      <td>7.5</td>\n",
       "      <td>Good</td>\n",
       "      <td>₪ 450</td>\n",
       "      <td>224 reviews</td>\n",
       "      <td>Queen Room</td>\n",
       "      <td>1 queen bed</td>\n",
       "      <td>Prepayment</td>\n",
       "      <td>2023-03-27-2023-03-28</td>\n",
       "      <td>2023-03-26</td>\n",
       "      <td>1 night</td>\n",
       "      <td>1.0</td>\n",
       "    </tr>\n",
       "    <tr>\n",
       "      <th>3</th>\n",
       "      <td>Pod Brooklyn</td>\n",
       "      <td>Williamsburg, Brooklyn</td>\n",
       "      <td>6.2 km from center</td>\n",
       "      <td>8.2</td>\n",
       "      <td>Very Good</td>\n",
       "      <td>₪ 392</td>\n",
       "      <td>2,883 reviews</td>\n",
       "      <td>Queen Pod</td>\n",
       "      <td>1 queen bed</td>\n",
       "      <td>Prepayment</td>\n",
       "      <td>2023-03-27-2023-03-28</td>\n",
       "      <td>2023-03-26</td>\n",
       "      <td>1 night</td>\n",
       "      <td>1.0</td>\n",
       "    </tr>\n",
       "    <tr>\n",
       "      <th>4</th>\n",
       "      <td>Hyatt House Jersey City</td>\n",
       "      <td>Jersey City</td>\n",
       "      <td>7.3 km from center</td>\n",
       "      <td>8.2</td>\n",
       "      <td>Very Good</td>\n",
       "      <td>₪ 702</td>\n",
       "      <td>1,532 reviews</td>\n",
       "      <td>King Room</td>\n",
       "      <td>1 king bed</td>\n",
       "      <td>Prepayment</td>\n",
       "      <td>2023-03-27-2023-03-28</td>\n",
       "      <td>2023-03-26</td>\n",
       "      <td>1 night</td>\n",
       "      <td>1.0</td>\n",
       "    </tr>\n",
       "  </tbody>\n",
       "</table>\n",
       "</div>"
      ],
      "text/plain": [
       "                                 Name                     Location  \\\n",
       "0                   Graduate New York                     New York   \n",
       "1  Margaritaville Resort Times Square          Manhattan, New York   \n",
       "2          The Tillary Hotel Brooklyn  Downtown Brooklyn, Brooklyn   \n",
       "3                        Pod Brooklyn       Williamsburg, Brooklyn   \n",
       "4             Hyatt House Jersey City                  Jersey City   \n",
       "\n",
       "             Distance Rate      Grade  Price         Review  \\\n",
       "0  2.6 km from center  8.5  Very Good  ₪ 608  2,162 reviews   \n",
       "1  1.5 km from center  8.8  Excellent  ₪ 643  1,470 reviews   \n",
       "2    8 km from center  7.5       Good  ₪ 450    224 reviews   \n",
       "3  6.2 km from center  8.2  Very Good  ₪ 392  2,883 reviews   \n",
       "4  7.3 km from center  8.2  Very Good  ₪ 702  1,532 reviews   \n",
       "\n",
       "                     TypeRoom      TypeBed CancellationPolicy  \\\n",
       "0  Graduate King - Accessible   1 king bed         Prepayment   \n",
       "1         Standard Queen Room  1 queen bed         Prepayment   \n",
       "2                  Queen Room  1 queen bed         Prepayment   \n",
       "3                   Queen Pod  1 queen bed         Prepayment   \n",
       "4                   King Room   1 king bed         Prepayment   \n",
       "\n",
       "          DateOfVacation SnapShotDate numOfNights  TimeToTravel  \n",
       "0  2023-03-27-2023-03-28   2023-03-26     1 night           1.0  \n",
       "1  2023-03-27-2023-03-28   2023-03-26     1 night           1.0  \n",
       "2  2023-03-27-2023-03-28   2023-03-26     1 night           1.0  \n",
       "3  2023-03-27-2023-03-28   2023-03-26     1 night           1.0  \n",
       "4  2023-03-27-2023-03-28   2023-03-26     1 night           1.0  "
      ]
     },
     "execution_count": 28,
     "metadata": {},
     "output_type": "execute_result"
    }
   ],
   "source": [
    "#create the dataFrame\n",
    "bookingHotels3 = pd.DataFrame({'Name':Name,'Location':Location,'Distance':Distance,\n",
    "                              'Rate':Rate,'Grade':Grade,'Price':Price,'Review':Review,\n",
    "                              'TypeRoom':TypeRoom,'TypeBed':TypeBed,'CancellationPolicy':CancellationPolicy,'DateOfVacation':DateOfVacation,'SnapShotDate':SnapShotDate ,'numOfNights':numOfNights,'TimeToTravel':TimeToTravel})\n",
    "bookingHotels3.head()"
   ]
  },
  {
   "cell_type": "code",
   "execution_count": 29,
   "id": "e8b4f0ec",
   "metadata": {
    "scrolled": true
   },
   "outputs": [
    {
     "name": "stdout",
     "output_type": "stream",
     "text": [
      "<class 'pandas.core.frame.DataFrame'>\n",
      "RangeIndex: 16100 entries, 0 to 16099\n",
      "Data columns (total 14 columns):\n",
      " #   Column              Non-Null Count  Dtype  \n",
      "---  ------              --------------  -----  \n",
      " 0   Name                15000 non-null  object \n",
      " 1   Location            15000 non-null  object \n",
      " 2   Distance            15000 non-null  object \n",
      " 3   Rate                15000 non-null  object \n",
      " 4   Grade               15000 non-null  object \n",
      " 5   Price               15000 non-null  object \n",
      " 6   Review              15000 non-null  object \n",
      " 7   TypeRoom            15000 non-null  object \n",
      " 8   TypeBed             15000 non-null  object \n",
      " 9   CancellationPolicy  15000 non-null  object \n",
      " 10  DateOfVacation      15000 non-null  object \n",
      " 11  SnapShotDate        15000 non-null  object \n",
      " 12  numOfNights         15000 non-null  object \n",
      " 13  TimeToTravel        15000 non-null  float64\n",
      "dtypes: float64(1), object(13)\n",
      "memory usage: 1.7+ MB\n"
     ]
    }
   ],
   "source": [
    "bookingHotels3.info()"
   ]
  },
  {
   "cell_type": "code",
   "execution_count": 30,
   "id": "cbc1fe4f",
   "metadata": {},
   "outputs": [],
   "source": [
    "#create the csv file\n",
    "bookingHotels3.to_csv('bookingHotels3.csv', index=False)"
   ]
  },
  {
   "cell_type": "markdown",
   "id": "d45b0288",
   "metadata": {},
   "source": [
    "# Scraping Expidia"
   ]
  },
  {
   "cell_type": "code",
   "execution_count": 1,
   "id": "051520dc",
   "metadata": {
    "scrolled": true
   },
   "outputs": [
    {
     "name": "stdout",
     "output_type": "stream",
     "text": [
      "Requirement already satisfied: selenium in c:\\users\\yehus\\anaconda3\\lib\\site-packages (4.7.2)Note: you may need to restart the kernel to use updated packages.\n",
      "\n",
      "Requirement already satisfied: trio~=0.17 in c:\\users\\yehus\\anaconda3\\lib\\site-packages (from selenium) (0.22.0)\n",
      "Requirement already satisfied: certifi>=2021.10.8 in c:\\users\\yehus\\anaconda3\\lib\\site-packages (from selenium) (2022.9.14)\n",
      "Requirement already satisfied: urllib3[socks]~=1.26 in c:\\users\\yehus\\anaconda3\\lib\\site-packages (from selenium) (1.26.11)\n",
      "Requirement already satisfied: trio-websocket~=0.9 in c:\\users\\yehus\\anaconda3\\lib\\site-packages (from selenium) (0.9.2)\n",
      "Requirement already satisfied: outcome in c:\\users\\yehus\\anaconda3\\lib\\site-packages (from trio~=0.17->selenium) (1.2.0)\n",
      "Requirement already satisfied: sniffio in c:\\users\\yehus\\anaconda3\\lib\\site-packages (from trio~=0.17->selenium) (1.2.0)\n",
      "Requirement already satisfied: exceptiongroup>=1.0.0rc9 in c:\\users\\yehus\\anaconda3\\lib\\site-packages (from trio~=0.17->selenium) (1.1.0)\n",
      "Requirement already satisfied: async-generator>=1.9 in c:\\users\\yehus\\anaconda3\\lib\\site-packages (from trio~=0.17->selenium) (1.10)\n",
      "Requirement already satisfied: sortedcontainers in c:\\users\\yehus\\anaconda3\\lib\\site-packages (from trio~=0.17->selenium) (2.4.0)\n",
      "Requirement already satisfied: cffi>=1.14 in c:\\users\\yehus\\anaconda3\\lib\\site-packages (from trio~=0.17->selenium) (1.15.1)\n",
      "Requirement already satisfied: idna in c:\\users\\yehus\\anaconda3\\lib\\site-packages (from trio~=0.17->selenium) (3.3)\n",
      "Requirement already satisfied: attrs>=19.2.0 in c:\\users\\yehus\\anaconda3\\lib\\site-packages (from trio~=0.17->selenium) (21.4.0)\n",
      "Requirement already satisfied: wsproto>=0.14 in c:\\users\\yehus\\anaconda3\\lib\\site-packages (from trio-websocket~=0.9->selenium) (1.2.0)\n",
      "Requirement already satisfied: PySocks!=1.5.7,<2.0,>=1.5.6 in c:\\users\\yehus\\anaconda3\\lib\\site-packages (from urllib3[socks]~=1.26->selenium) (1.7.1)\n",
      "Requirement already satisfied: pycparser in c:\\users\\yehus\\anaconda3\\lib\\site-packages (from cffi>=1.14->trio~=0.17->selenium) (2.21)\n",
      "Requirement already satisfied: h11<1,>=0.9.0 in c:\\users\\yehus\\anaconda3\\lib\\site-packages (from wsproto>=0.14->trio-websocket~=0.9->selenium) (0.14.0)\n"
     ]
    }
   ],
   "source": [
    "pip install selenium"
   ]
  },
  {
   "cell_type": "code",
   "execution_count": 2,
   "id": "a8e66639",
   "metadata": {},
   "outputs": [
    {
     "name": "stdout",
     "output_type": "stream",
     "text": [
      "Requirement already satisfied: webdriver-manager in c:\\users\\yehus\\anaconda3\\lib\\site-packages (3.8.5)\n",
      "Requirement already satisfied: requests in c:\\users\\yehus\\anaconda3\\lib\\site-packages (from webdriver-manager) (2.28.1)\n",
      "Requirement already satisfied: python-dotenv in c:\\users\\yehus\\anaconda3\\lib\\site-packages (from webdriver-manager) (1.0.0)\n",
      "Requirement already satisfied: packaging in c:\\users\\yehus\\anaconda3\\lib\\site-packages (from webdriver-manager) (21.3)\n",
      "Requirement already satisfied: tqdm in c:\\users\\yehus\\anaconda3\\lib\\site-packages (from webdriver-manager) (4.64.1)\n",
      "Requirement already satisfied: pyparsing!=3.0.5,>=2.0.2 in c:\\users\\yehus\\anaconda3\\lib\\site-packages (from packaging->webdriver-manager) (3.0.9)\n",
      "Requirement already satisfied: urllib3<1.27,>=1.21.1 in c:\\users\\yehus\\anaconda3\\lib\\site-packages (from requests->webdriver-manager) (1.26.11)\n",
      "Requirement already satisfied: idna<4,>=2.5 in c:\\users\\yehus\\anaconda3\\lib\\site-packages (from requests->webdriver-manager) (3.3)\n",
      "Requirement already satisfied: certifi>=2017.4.17 in c:\\users\\yehus\\anaconda3\\lib\\site-packages (from requests->webdriver-manager) (2022.9.14)\n",
      "Requirement already satisfied: charset-normalizer<3,>=2 in c:\\users\\yehus\\anaconda3\\lib\\site-packages (from requests->webdriver-manager) (2.0.4)\n",
      "Requirement already satisfied: colorama in c:\\users\\yehus\\anaconda3\\lib\\site-packages (from tqdm->webdriver-manager) (0.4.5)\n",
      "Note: you may need to restart the kernel to use updated packages.\n"
     ]
    }
   ],
   "source": [
    "pip install webdriver-manager"
   ]
  },
  {
   "cell_type": "code",
   "execution_count": 3,
   "id": "d0e6204a",
   "metadata": {},
   "outputs": [],
   "source": [
    "import http\n",
    "import requests\n",
    "import os\n",
    "import pandas as pd\n",
    "from IPython.display import display, HTML\n",
    "import random\n",
    "import time\n",
    "from selenium import webdriver\n",
    "from selenium.webdriver.chrome.service import Service\n",
    "from selenium.webdriver.common.keys import Keys\n",
    "from selenium.webdriver.chrome.options import Options\n",
    "from selenium.webdriver.common.by import By\n",
    "from webdriver_manager.chrome import ChromeDriverManager\n",
    "from selenium.webdriver.support.ui import WebDriverWait\n",
    "from selenium.webdriver.support import expected_conditions as EC\n",
    "#from selenium.webdriver.common.by import By\n",
    "from selenium.common.exceptions import TimeoutException\n",
    "from datetime import datetime , timedelta\n",
    "import warnings \n",
    "warnings.filterwarnings(\"ignore\")"
   ]
  },
  {
   "cell_type": "code",
   "execution_count": 4,
   "id": "a8b6d460",
   "metadata": {},
   "outputs": [],
   "source": [
    "options = Options()\n",
    "options.add_experimental_option(\"detach\", True)\n",
    "\n",
    "#expedia =  webdriver.Chrome(service=Service(ChromeDriverManager().install()), options = options)"
   ]
  },
  {
   "cell_type": "code",
   "execution_count": 5,
   "id": "df7b74a7",
   "metadata": {},
   "outputs": [],
   "source": [
    "#expedia.get('https://www.expedia.com/Hotel-Search?adults=2&d1=2023-02-12&d2=2023-02-13&destination=New%20York%2C%20New%20York%2C%20United%20States%20of%20America&endDate=2023-02-13&latLong=40.712843%2C-74.005966&regionId=2621&rooms=1&semdtl=&sort=RECOMMENDED&startDate=2023-02-12&theme=&useRewards=false&userIntent=')"
   ]
  },
  {
   "cell_type": "code",
   "execution_count": 6,
   "id": "feaad551",
   "metadata": {},
   "outputs": [],
   "source": [
    "#expedia.quit()"
   ]
  },
  {
   "cell_type": "code",
   "execution_count": 7,
   "id": "d5cb5f94",
   "metadata": {},
   "outputs": [],
   "source": [
    "#get today's date\n",
    "now = datetime.now()\n",
    "snapshot_date = now\n",
    "#get end date 30 days from now\n",
    "end_date = now + timedelta(days = 35)\n",
    "#create a list of all dates between today and end date\n",
    "date_list = []\n",
    "while (now<= end_date):\n",
    "    date_list.append(now.strftime('%Y-%m-%d'))\n",
    "    now+=timedelta(days=1)\n",
    "combination_list = []\n",
    "for i in range(1,len(date_list)-5):\n",
    "    for j in range(1,6):\n",
    "        combinations = [date_list[i], date_list[i+j]]\n",
    "        combination_list.append(combinations)\n",
    "#print(combination_list ,len(combination_list))\n"
   ]
  },
  {
   "cell_type": "code",
   "execution_count": 8,
   "id": "1aef677a",
   "metadata": {},
   "outputs": [],
   "source": [
    "def scrollDown(driver):\n",
    "    \n",
    "# Scroll down by 500 pixels\n",
    "    expedia.execute_script(\"window.scrollBy(0, 500);\")\n",
    "\n",
    "# Scroll down to the bottom of the page\n",
    "    expedia.execute_script(\"window.scrollTo(0, document.body.scrollHeight);\")"
   ]
  },
  {
   "cell_type": "code",
   "execution_count": 9,
   "id": "06298093",
   "metadata": {},
   "outputs": [],
   "source": [
    "#scrollDown(expedia)"
   ]
  },
  {
   "cell_type": "code",
   "execution_count": 10,
   "id": "5949a855",
   "metadata": {},
   "outputs": [
    {
     "data": {
      "text/plain": [
       "150"
      ]
     },
     "execution_count": 10,
     "metadata": {},
     "output_type": "execute_result"
    }
   ],
   "source": [
    "#the nights of the combinations\n",
    "\n",
    "Date = []\n",
    "\n",
    "for string in combination_list:\n",
    "        Date.append(string[0] +\"-\"+ string[1])\n",
    "\n",
    "#Date\n",
    "\n",
    "len(Date)"
   ]
  },
  {
   "cell_type": "code",
   "execution_count": 11,
   "id": "c1d06b68",
   "metadata": {},
   "outputs": [],
   "source": [
    "#len(expedia.find_elements(By.XPATH,'.//*[@class=\"uitk-spacing uitk-spacing-margin-blockstart-three\"]'))"
   ]
  },
  {
   "cell_type": "code",
   "execution_count": 12,
   "id": "9f37cdb9",
   "metadata": {},
   "outputs": [
    {
     "data": {
      "text/plain": [
       "150"
      ]
     },
     "execution_count": 12,
     "metadata": {},
     "output_type": "execute_result"
    }
   ],
   "source": [
    "len(combination_list)"
   ]
  },
  {
   "cell_type": "code",
   "execution_count": 13,
   "id": "75389917",
   "metadata": {},
   "outputs": [
    {
     "data": {
      "text/plain": [
       "36"
      ]
     },
     "execution_count": 13,
     "metadata": {},
     "output_type": "execute_result"
    }
   ],
   "source": [
    "len(date_list)"
   ]
  },
  {
   "cell_type": "code",
   "execution_count": 14,
   "id": "6876976a",
   "metadata": {},
   "outputs": [],
   "source": [
    "#put the dates in the url for the scrapping\n",
    "url_list = []\n",
    "for i in combination_list:\n",
    "    \n",
    "    url_list.append(f\"https://euro.expedia.net/Hotel-Search?adults=2&d1={i[0]}&d2={i[1]}&destination=New%20York%20%28and%20vicinity%29%2C%20New%20York%2C%20United%20States%20of%20America&endDate={i[1]}&latLong=40.75668%2C-73.98647&regionId=178293&rooms=1&semdtl=&sort=RECOMMENDED&startDate={i[0]}&theme=&useRewards=false&userIntent=\")\n",
    "    #url_list.append(f\"https://www.expedia.com/Hotel-Search?adults=2&d1={i[0]}&d2={i[1]}&destination=New%20York%2C%20New%20York%2C%20United%20States%20of%20America&endDate={i[1]}&latLong=40.712843%2C-74.005966&regionId=2621&rooms=1&semdtl=&sort=RECOMMENDED&startDate={i[0]}&theme=&useRewards=false&userIntent=\")"
   ]
  },
  {
   "cell_type": "code",
   "execution_count": 15,
   "id": "d7cc6ad8",
   "metadata": {},
   "outputs": [
    {
     "data": {
      "text/plain": [
       "150"
      ]
     },
     "execution_count": 15,
     "metadata": {},
     "output_type": "execute_result"
    }
   ],
   "source": [
    "len(url_list)"
   ]
  },
  {
   "cell_type": "code",
   "execution_count": 16,
   "id": "e0809ee1",
   "metadata": {},
   "outputs": [
    {
     "data": {
      "text/plain": [
       "'https://euro.expedia.net/Hotel-Search?adults=2&d1=2023-04-06&d2=2023-04-07&destination=New%20York%20%28and%20vicinity%29%2C%20New%20York%2C%20United%20States%20of%20America&endDate=2023-04-07&latLong=40.75668%2C-73.98647&regionId=178293&rooms=1&semdtl=&sort=RECOMMENDED&startDate=2023-04-06&theme=&useRewards=false&userIntent='"
      ]
     },
     "execution_count": 16,
     "metadata": {},
     "output_type": "execute_result"
    }
   ],
   "source": [
    "url_list[50]"
   ]
  },
  {
   "cell_type": "code",
   "execution_count": 17,
   "id": "1db63110",
   "metadata": {},
   "outputs": [],
   "source": [
    "#click = expedia.find_elements(By.XPATH,'.//*[@class=\"uitk-spacing search-results-listing uitk-spacing-padding-small-block-three uitk-spacing-padding-medium-blockstart-one uitk-spacing-padding-large-blockstart-three\"]')[0].click()\n",
    "#click"
   ]
  },
  {
   "cell_type": "code",
   "execution_count": 18,
   "id": "7648d317",
   "metadata": {},
   "outputs": [],
   "source": [
    "#create lists for the dataFrame\n",
    "\n",
    "Name = []\n",
    "Rate = []\n",
    "Review = []\n",
    "Grade = []\n",
    "Price = []\n",
    "DateOfVacation = []\n",
    "LengthOfStay = []\n",
    "TimeToTravel = []"
   ]
  },
  {
   "cell_type": "code",
   "execution_count": 19,
   "id": "5a820c8a",
   "metadata": {},
   "outputs": [
    {
     "data": {
      "text/plain": [
       "[]"
      ]
     },
     "execution_count": 19,
     "metadata": {},
     "output_type": "execute_result"
    }
   ],
   "source": [
    "Name"
   ]
  },
  {
   "cell_type": "code",
   "execution_count": 20,
   "id": "a0c4748b",
   "metadata": {},
   "outputs": [
    {
     "data": {
      "text/plain": [
       "150"
      ]
     },
     "execution_count": 20,
     "metadata": {},
     "output_type": "execute_result"
    }
   ],
   "source": [
    "#the nights of the combinations\n",
    "strings = [\"1 night\", \"2 nights\", \"3 nights\", \"4 nights\", \"5 nights\"]\n",
    "numOfNights = []\n",
    "\n",
    "for i in range(30):\n",
    "    for string in strings:\n",
    "        numOfNights.append(string)\n",
    "\n",
    "len(numOfNights)\n",
    "#numOfNights"
   ]
  },
  {
   "cell_type": "code",
   "execution_count": 21,
   "id": "94612110",
   "metadata": {},
   "outputs": [
    {
     "data": {
      "text/plain": [
       "15000"
      ]
     },
     "execution_count": 21,
     "metadata": {},
     "output_type": "execute_result"
    }
   ],
   "source": [
    "#snapShot date\n",
    "string = date_list[0]\n",
    "SnapShotDate = []\n",
    "\n",
    "for i in range(15000):\n",
    "        SnapShotDate.append(string)\n",
    "#SnapShotDate\n",
    "len(SnapShotDate)       "
   ]
  },
  {
   "cell_type": "code",
   "execution_count": 22,
   "id": "097d3e6a",
   "metadata": {},
   "outputs": [
    {
     "data": {
      "text/plain": [
       "150"
      ]
     },
     "execution_count": 22,
     "metadata": {},
     "output_type": "execute_result"
    }
   ],
   "source": [
    "#how much time left to the checkIn date\n",
    "TimeTo = []\n",
    "times = 0\n",
    "for i in range(30):\n",
    "    times +=1\n",
    "    for i in range(5):   \n",
    "        TimeTo.append(times)\n",
    "\n",
    "len(TimeTo)\n",
    "#TimeTo"
   ]
  },
  {
   "cell_type": "code",
   "execution_count": 23,
   "id": "1c723370",
   "metadata": {},
   "outputs": [
    {
     "name": "stderr",
     "output_type": "stream",
     "text": [
      "[WDM] - Downloading: 100%|████████████████████████████████████████████████████████| 6.79M/6.79M [00:00<00:00, 39.0MB/s]\n"
     ]
    }
   ],
   "source": [
    "expedia = webdriver.Chrome(service=Service(ChromeDriverManager().install()), options = options)\n",
    "#expedia.get(url_list[2])"
   ]
  },
  {
   "cell_type": "code",
   "execution_count": 24,
   "id": "9bc7063d",
   "metadata": {},
   "outputs": [],
   "source": [
    "#len(expedia.find_elements(By.XPATH,'.//*[@class=\"uitk-spacing uitk-spacing-margin-blockstart-three\"]'))"
   ]
  },
  {
   "cell_type": "raw",
   "id": "99294f8e",
   "metadata": {},
   "source": [
    "#checking\n",
    "k = 0\n",
    "for url in url_list:\n",
    "    \n",
    "    try:\n",
    "        expedia.get(url)\n",
    "    except:\n",
    "        expedia.quit()\n",
    "        expedia = webdriver.Chrome(service=Service(ChromeDriverManager().install()), options = options)\n",
    "        expedia.get(url)\n",
    "        \n",
    "    while (len(expedia.find_elements(By.XPATH,'.//*[@class=\"uitk-spacing uitk-spacing-margin-blockstart-three\"]')) < 110):\n",
    "        \n",
    "        try:\n",
    "            \n",
    "            load = expedia.find_elements(By.XPATH,'.//*[@class=\"uitk-button uitk-button-medium uitk-button-secondary\"]')[0].click()\n",
    "            for j in range(1,5):\n",
    "                scrollDown(expedia)\n",
    "                time.sleep(1)\n",
    "                load\n",
    "                \n",
    "            \n",
    "        except:\n",
    "            time.sleep(0)\n",
    "          \n",
    "        scrollDown(expedia)\n",
    "    \n",
    "    \n",
    "    for i in range(1,100): \n",
    "            \n",
    "        try:\n",
    "            curHotel = expedia.find_elements(By.XPATH,'.//*[@class=\"uitk-spacing uitk-spacing-margin-blockstart-three\"]')[i]\n",
    "            print('\\n',i,\")\",curHotel.find_elements(By.XPATH,'.//*[@class=\"uitk-heading uitk-heading-5 overflow-wrap\"]')[0].text)\n",
    "            try:    \n",
    "                print(curHotel.find_elements(By.XPATH,'.//*[@class=\"uitk-spacing uitk-spacing-padding-inlineend-half uitk-layout-flex-item\"]')[0].text)\n",
    "            except:\n",
    "                print(\"Uknown\")\n",
    "            try:\n",
    "                print(curHotel.find_elements(By.XPATH,'.//*[@class=\"uitk-spacing uitk-spacing-padding-inlineend-one uitk-layout-flex-item\"]')[2].text)\n",
    "            except:\n",
    "                print(\"Uknown\")\n",
    "            try:\n",
    "                print(curHotel.find_elements(By.XPATH,'.//*[@class=\"uitk-spacing uitk-spacing-padding-inlineend-one uitk-layout-flex-item\"]')[1].text)\n",
    "            except:\n",
    "                print(\"Uknown\")    \n",
    "            try:    \n",
    "                print(curHotel.find_elements(By.XPATH,'.//*[@class=\"uitk-spacing uitk-spacing-padding-block-half\"]')[0].text[13:19])\n",
    "            except:\n",
    "                print(\"Uknown\")\n",
    "            print(numOfNights[k])\n",
    "            print(TimeTo[k])\n",
    "            print(Date[k])           \n",
    "\n",
    "        except:\n",
    "            print(\"Error\" , i)\n",
    "            i-=1            \n",
    "            \n",
    "        if (i == 100):\n",
    "            break\n",
    "    k+=1    \n",
    "    #expedia.quit()\n",
    "                "
   ]
  },
  {
   "cell_type": "code",
   "execution_count": 25,
   "id": "4b2a2dff",
   "metadata": {},
   "outputs": [
    {
     "name": "stdout",
     "output_type": "stream",
     "text": [
      "Error 12\n",
      "Error 12\n",
      "Error 12\n",
      "Error 12\n",
      "Error 12\n",
      "Error 12\n",
      "Error 12\n",
      "Error 12\n",
      "Error 12\n",
      "Error 12\n",
      "Error 12\n",
      "Error 12\n",
      "Error 12\n",
      "Error 12\n",
      "Error 12\n",
      "Error 12\n",
      "Error 12\n",
      "Error 12\n",
      "Error 12\n",
      "Error 12\n",
      "Error 12\n",
      "Error 12\n",
      "Error 12\n",
      "Error 12\n",
      "Error 12\n",
      "Error 12\n",
      "Error 12\n",
      "Error 12\n",
      "Error 12\n",
      "Error 12\n",
      "Error 12\n",
      "Error 12\n",
      "Error 12\n",
      "Error 12\n",
      "Error 12\n",
      "Error 12\n",
      "Error 12\n",
      "Error 12\n",
      "Error 12\n",
      "Error 12\n",
      "Error 12\n",
      "Error 12\n",
      "Error 12\n",
      "Error 12\n",
      "Error 12\n",
      "Error 12\n",
      "Error 12\n",
      "Error 12\n",
      "Error 12\n",
      "Error 12\n",
      "Error 12\n",
      "Error 12\n",
      "Error 12\n",
      "Error 12\n",
      "Error 12\n",
      "Error 12\n",
      "Error 12\n",
      "Error 12\n",
      "Error 12\n",
      "Error 12\n",
      "Error 12\n",
      "Error 12\n",
      "Error 12\n",
      "Error 12\n",
      "Error 12\n",
      "Error 12\n",
      "Error 12\n",
      "Error 12\n",
      "Error 12\n",
      "Error 12\n",
      "Error 12\n",
      "Error 12\n",
      "Error 12\n",
      "Error 12\n",
      "Error 12\n",
      "Error 12\n",
      "Error 12\n",
      "Error 12\n",
      "Error 12\n",
      "Error 12\n",
      "Error 12\n",
      "Error 12\n",
      "Error 12\n",
      "Error 12\n",
      "Error 12\n",
      "Error 12\n",
      "Error 12\n",
      "Error 12\n",
      "Error 12\n",
      "Error 12\n",
      "Error 12\n",
      "Error 12\n",
      "Error 12\n",
      "Error 12\n",
      "Error 12\n",
      "Error 12\n",
      "Error 12\n",
      "Error 12\n",
      "Error 12\n",
      "Error 12\n",
      "Error 12\n",
      "Error 12\n",
      "Error 12\n",
      "Error 12\n",
      "Error 12\n",
      "Error 12\n",
      "Error 12\n",
      "Error 12\n",
      "Error 12\n",
      "Error 12\n",
      "Error 12\n",
      "Error 12\n",
      "Error 12\n",
      "Error 12\n",
      "Error 12\n",
      "Error 12\n",
      "Error 12\n",
      "Error 12\n",
      "Error 12\n",
      "Error 12\n",
      "Error 12\n",
      "Error 12\n",
      "Error 12\n",
      "Error 12\n",
      "Error 12\n",
      "Error 12\n",
      "Error 12\n",
      "Error 12\n",
      "Error 12\n",
      "Error 12\n",
      "Error 12\n",
      "Error 12\n",
      "Error 12\n",
      "Error 12\n",
      "Error 12\n",
      "Error 12\n",
      "Error 12\n",
      "Error 12\n",
      "Error 12\n",
      "Error 12\n"
     ]
    },
    {
     "ename": "NoSuchWindowException",
     "evalue": "Message: no such window: target window already closed\nfrom unknown error: web view not found\n  (Session info: chrome=111.0.5563.111)\nStacktrace:\nBacktrace:\n\t(No symbol) [0x00B4DCE3]\n\t(No symbol) [0x00AE39D1]\n\t(No symbol) [0x009F4DA8]\n\t(No symbol) [0x009DD0D3]\n\t(No symbol) [0x00A3EA8B]\n\t(No symbol) [0x00A4D093]\n\t(No symbol) [0x00A3ACC6]\n\t(No symbol) [0x00A16F68]\n\t(No symbol) [0x00A180CD]\n\tGetHandleVerifier [0x00DC3832+2506274]\n\tGetHandleVerifier [0x00DF9794+2727300]\n\tGetHandleVerifier [0x00DFE36C+2746716]\n\tGetHandleVerifier [0x00BF6690+617600]\n\t(No symbol) [0x00AEC712]\n\t(No symbol) [0x00AF1FF8]\n\t(No symbol) [0x00AF20DB]\n\t(No symbol) [0x00AFC63B]\n\tBaseThreadInitThunk [0x75F37D69+25]\n\tRtlInitializeExceptionChain [0x770EB74B+107]\n\tRtlClearBits [0x770EB6CF+191]\n",
     "output_type": "error",
     "traceback": [
      "\u001b[1;31m---------------------------------------------------------------------------\u001b[0m",
      "\u001b[1;31mNoSuchWindowException\u001b[0m                     Traceback (most recent call last)",
      "\u001b[1;32m~\\AppData\\Local\\Temp\\ipykernel_16868\\3789652203.py\u001b[0m in \u001b[0;36m<module>\u001b[1;34m\u001b[0m\n\u001b[0;32m     25\u001b[0m \u001b[1;33m\u001b[0m\u001b[0m\n\u001b[0;32m     26\u001b[0m \u001b[1;33m\u001b[0m\u001b[0m\n\u001b[1;32m---> 27\u001b[1;33m         \u001b[0mscrollDown\u001b[0m\u001b[1;33m(\u001b[0m\u001b[0mexpedia\u001b[0m\u001b[1;33m)\u001b[0m\u001b[1;33m\u001b[0m\u001b[1;33m\u001b[0m\u001b[0m\n\u001b[0m\u001b[0;32m     28\u001b[0m \u001b[1;33m\u001b[0m\u001b[0m\n\u001b[0;32m     29\u001b[0m \u001b[1;33m\u001b[0m\u001b[0m\n",
      "\u001b[1;32m~\\AppData\\Local\\Temp\\ipykernel_16868\\3266375800.py\u001b[0m in \u001b[0;36mscrollDown\u001b[1;34m(driver)\u001b[0m\n\u001b[0;32m      2\u001b[0m \u001b[1;33m\u001b[0m\u001b[0m\n\u001b[0;32m      3\u001b[0m \u001b[1;31m# Scroll down by 500 pixels\u001b[0m\u001b[1;33m\u001b[0m\u001b[1;33m\u001b[0m\u001b[0m\n\u001b[1;32m----> 4\u001b[1;33m     \u001b[0mexpedia\u001b[0m\u001b[1;33m.\u001b[0m\u001b[0mexecute_script\u001b[0m\u001b[1;33m(\u001b[0m\u001b[1;34m\"window.scrollBy(0, 500);\"\u001b[0m\u001b[1;33m)\u001b[0m\u001b[1;33m\u001b[0m\u001b[1;33m\u001b[0m\u001b[0m\n\u001b[0m\u001b[0;32m      5\u001b[0m \u001b[1;33m\u001b[0m\u001b[0m\n\u001b[0;32m      6\u001b[0m \u001b[1;31m# Scroll down to the bottom of the page\u001b[0m\u001b[1;33m\u001b[0m\u001b[1;33m\u001b[0m\u001b[0m\n",
      "\u001b[1;32m~\\anaconda3\\lib\\site-packages\\selenium\\webdriver\\remote\\webdriver.py\u001b[0m in \u001b[0;36mexecute_script\u001b[1;34m(self, script, *args)\u001b[0m\n\u001b[0;32m    504\u001b[0m         \u001b[0mcommand\u001b[0m \u001b[1;33m=\u001b[0m \u001b[0mCommand\u001b[0m\u001b[1;33m.\u001b[0m\u001b[0mW3C_EXECUTE_SCRIPT\u001b[0m\u001b[1;33m\u001b[0m\u001b[1;33m\u001b[0m\u001b[0m\n\u001b[0;32m    505\u001b[0m \u001b[1;33m\u001b[0m\u001b[0m\n\u001b[1;32m--> 506\u001b[1;33m         \u001b[1;32mreturn\u001b[0m \u001b[0mself\u001b[0m\u001b[1;33m.\u001b[0m\u001b[0mexecute\u001b[0m\u001b[1;33m(\u001b[0m\u001b[0mcommand\u001b[0m\u001b[1;33m,\u001b[0m \u001b[1;33m{\u001b[0m\u001b[1;34m\"script\"\u001b[0m\u001b[1;33m:\u001b[0m \u001b[0mscript\u001b[0m\u001b[1;33m,\u001b[0m \u001b[1;34m\"args\"\u001b[0m\u001b[1;33m:\u001b[0m \u001b[0mconverted_args\u001b[0m\u001b[1;33m}\u001b[0m\u001b[1;33m)\u001b[0m\u001b[1;33m[\u001b[0m\u001b[1;34m\"value\"\u001b[0m\u001b[1;33m]\u001b[0m\u001b[1;33m\u001b[0m\u001b[1;33m\u001b[0m\u001b[0m\n\u001b[0m\u001b[0;32m    507\u001b[0m \u001b[1;33m\u001b[0m\u001b[0m\n\u001b[0;32m    508\u001b[0m     \u001b[1;32mdef\u001b[0m \u001b[0mexecute_async_script\u001b[0m\u001b[1;33m(\u001b[0m\u001b[0mself\u001b[0m\u001b[1;33m,\u001b[0m \u001b[0mscript\u001b[0m\u001b[1;33m:\u001b[0m \u001b[0mstr\u001b[0m\u001b[1;33m,\u001b[0m \u001b[1;33m*\u001b[0m\u001b[0margs\u001b[0m\u001b[1;33m)\u001b[0m\u001b[1;33m:\u001b[0m\u001b[1;33m\u001b[0m\u001b[1;33m\u001b[0m\u001b[0m\n",
      "\u001b[1;32m~\\anaconda3\\lib\\site-packages\\selenium\\webdriver\\remote\\webdriver.py\u001b[0m in \u001b[0;36mexecute\u001b[1;34m(self, driver_command, params)\u001b[0m\n\u001b[0;32m    442\u001b[0m         \u001b[0mresponse\u001b[0m \u001b[1;33m=\u001b[0m \u001b[0mself\u001b[0m\u001b[1;33m.\u001b[0m\u001b[0mcommand_executor\u001b[0m\u001b[1;33m.\u001b[0m\u001b[0mexecute\u001b[0m\u001b[1;33m(\u001b[0m\u001b[0mdriver_command\u001b[0m\u001b[1;33m,\u001b[0m \u001b[0mparams\u001b[0m\u001b[1;33m)\u001b[0m\u001b[1;33m\u001b[0m\u001b[1;33m\u001b[0m\u001b[0m\n\u001b[0;32m    443\u001b[0m         \u001b[1;32mif\u001b[0m \u001b[0mresponse\u001b[0m\u001b[1;33m:\u001b[0m\u001b[1;33m\u001b[0m\u001b[1;33m\u001b[0m\u001b[0m\n\u001b[1;32m--> 444\u001b[1;33m             \u001b[0mself\u001b[0m\u001b[1;33m.\u001b[0m\u001b[0merror_handler\u001b[0m\u001b[1;33m.\u001b[0m\u001b[0mcheck_response\u001b[0m\u001b[1;33m(\u001b[0m\u001b[0mresponse\u001b[0m\u001b[1;33m)\u001b[0m\u001b[1;33m\u001b[0m\u001b[1;33m\u001b[0m\u001b[0m\n\u001b[0m\u001b[0;32m    445\u001b[0m             \u001b[0mresponse\u001b[0m\u001b[1;33m[\u001b[0m\u001b[1;34m\"value\"\u001b[0m\u001b[1;33m]\u001b[0m \u001b[1;33m=\u001b[0m \u001b[0mself\u001b[0m\u001b[1;33m.\u001b[0m\u001b[0m_unwrap_value\u001b[0m\u001b[1;33m(\u001b[0m\u001b[0mresponse\u001b[0m\u001b[1;33m.\u001b[0m\u001b[0mget\u001b[0m\u001b[1;33m(\u001b[0m\u001b[1;34m\"value\"\u001b[0m\u001b[1;33m,\u001b[0m \u001b[1;32mNone\u001b[0m\u001b[1;33m)\u001b[0m\u001b[1;33m)\u001b[0m\u001b[1;33m\u001b[0m\u001b[1;33m\u001b[0m\u001b[0m\n\u001b[0;32m    446\u001b[0m             \u001b[1;32mreturn\u001b[0m \u001b[0mresponse\u001b[0m\u001b[1;33m\u001b[0m\u001b[1;33m\u001b[0m\u001b[0m\n",
      "\u001b[1;32m~\\anaconda3\\lib\\site-packages\\selenium\\webdriver\\remote\\errorhandler.py\u001b[0m in \u001b[0;36mcheck_response\u001b[1;34m(self, response)\u001b[0m\n\u001b[0;32m    247\u001b[0m                 \u001b[0malert_text\u001b[0m \u001b[1;33m=\u001b[0m \u001b[0mvalue\u001b[0m\u001b[1;33m[\u001b[0m\u001b[1;34m\"alert\"\u001b[0m\u001b[1;33m]\u001b[0m\u001b[1;33m.\u001b[0m\u001b[0mget\u001b[0m\u001b[1;33m(\u001b[0m\u001b[1;34m\"text\"\u001b[0m\u001b[1;33m)\u001b[0m\u001b[1;33m\u001b[0m\u001b[1;33m\u001b[0m\u001b[0m\n\u001b[0;32m    248\u001b[0m             \u001b[1;32mraise\u001b[0m \u001b[0mexception_class\u001b[0m\u001b[1;33m(\u001b[0m\u001b[0mmessage\u001b[0m\u001b[1;33m,\u001b[0m \u001b[0mscreen\u001b[0m\u001b[1;33m,\u001b[0m \u001b[0mstacktrace\u001b[0m\u001b[1;33m,\u001b[0m \u001b[0malert_text\u001b[0m\u001b[1;33m)\u001b[0m  \u001b[1;31m# type: ignore[call-arg]  # mypy is not smart enough here\u001b[0m\u001b[1;33m\u001b[0m\u001b[1;33m\u001b[0m\u001b[0m\n\u001b[1;32m--> 249\u001b[1;33m         \u001b[1;32mraise\u001b[0m \u001b[0mexception_class\u001b[0m\u001b[1;33m(\u001b[0m\u001b[0mmessage\u001b[0m\u001b[1;33m,\u001b[0m \u001b[0mscreen\u001b[0m\u001b[1;33m,\u001b[0m \u001b[0mstacktrace\u001b[0m\u001b[1;33m)\u001b[0m\u001b[1;33m\u001b[0m\u001b[1;33m\u001b[0m\u001b[0m\n\u001b[0m",
      "\u001b[1;31mNoSuchWindowException\u001b[0m: Message: no such window: target window already closed\nfrom unknown error: web view not found\n  (Session info: chrome=111.0.5563.111)\nStacktrace:\nBacktrace:\n\t(No symbol) [0x00B4DCE3]\n\t(No symbol) [0x00AE39D1]\n\t(No symbol) [0x009F4DA8]\n\t(No symbol) [0x009DD0D3]\n\t(No symbol) [0x00A3EA8B]\n\t(No symbol) [0x00A4D093]\n\t(No symbol) [0x00A3ACC6]\n\t(No symbol) [0x00A16F68]\n\t(No symbol) [0x00A180CD]\n\tGetHandleVerifier [0x00DC3832+2506274]\n\tGetHandleVerifier [0x00DF9794+2727300]\n\tGetHandleVerifier [0x00DFE36C+2746716]\n\tGetHandleVerifier [0x00BF6690+617600]\n\t(No symbol) [0x00AEC712]\n\t(No symbol) [0x00AF1FF8]\n\t(No symbol) [0x00AF20DB]\n\t(No symbol) [0x00AFC63B]\n\tBaseThreadInitThunk [0x75F37D69+25]\n\tRtlInitializeExceptionChain [0x770EB74B+107]\n\tRtlClearBits [0x770EB6CF+191]\n"
     ]
    }
   ],
   "source": [
    "#fill the lists with the values\n",
    "k = 0\n",
    "for url in url_list:\n",
    "    try:\n",
    "        expedia.get(url)\n",
    "    except:\n",
    "        expedia.quit()\n",
    "        expedia = webdriver.Chrome(service=Service(ChromeDriverManager().install()), options = options)\n",
    "        expedia.get(url)\n",
    "        \n",
    "    while (len(expedia.find_elements(By.XPATH,'.//*[@class=\"uitk-spacing uitk-spacing-margin-blockstart-three\"]')) < 103):\n",
    "        \n",
    "        try:\n",
    "            \n",
    "            \n",
    "            for j in range(1,5):\n",
    "                scrollDown(expedia)\n",
    "                time.sleep(2)\n",
    "                expedia.find_elements(By.XPATH,'.//*[@class=\"uitk-button uitk-button-medium uitk-button-secondary\"]')[0].click()\n",
    "                time.sleep(2)\n",
    "                \n",
    "            \n",
    "        except:\n",
    "            time.sleep(2)\n",
    "            \n",
    "          \n",
    "        scrollDown(expedia)\n",
    "    \n",
    "    \n",
    "    for i in range(1,100): \n",
    "            \n",
    "        try:\n",
    "            curHotel = expedia.find_elements(By.XPATH,'.//*[@class=\"uitk-spacing uitk-spacing-margin-blockstart-three\"]')[i]\n",
    "            Name.append(curHotel.find_elements(By.XPATH,'.//*[@class=\"uitk-heading uitk-heading-5 overflow-wrap\"]')[0].text)\n",
    "            try:    \n",
    "                Rate.append(curHotel.find_elements(By.XPATH,'.//*[@class=\"uitk-spacing uitk-spacing-padding-inlineend-half uitk-layout-flex-item\"]')[0].text)\n",
    "            except:\n",
    "                Rate.append(\"Uknown\")\n",
    "            try:\n",
    "                Review.append(curHotel.find_elements(By.XPATH,'.//*[@class=\"uitk-spacing uitk-spacing-padding-inlineend-one uitk-layout-flex-item\"]')[2].text)\n",
    "            except:\n",
    "                Review.append(\"Uknown\")\n",
    "            try:\n",
    "                Grade.append(curHotel.find_elements(By.XPATH,'.//*[@class=\"uitk-spacing uitk-spacing-padding-inlineend-one uitk-layout-flex-item\"]')[1].text)\n",
    "            except:\n",
    "                Grade.append(\"Uknown\")    \n",
    "                \n",
    "            Price.append(curHotel.find_elements(By.XPATH,'.//*[@class=\"uitk-spacing uitk-spacing-padding-block-half\"]')[0].text[13:19])\n",
    "            LengthOfStay.append(numOfNights[k])\n",
    "            TimeToTravel.append(TimeTo[k])\n",
    "            DateOfVacation.append(Date[k])           \n",
    "        except:\n",
    "            print(\"Error\" , i)\n",
    "            i = i - 1            \n",
    "            \n",
    "        if (i == 100):\n",
    "            break\n",
    "    k+=1    \n",
    "    #expedia.quit()\n",
    "                "
   ]
  },
  {
   "cell_type": "code",
   "execution_count": 26,
   "id": "43821d90",
   "metadata": {},
   "outputs": [
    {
     "data": {
      "text/plain": [
       "13720"
      ]
     },
     "execution_count": 26,
     "metadata": {},
     "output_type": "execute_result"
    }
   ],
   "source": [
    "len(Price)"
   ]
  },
  {
   "cell_type": "code",
   "execution_count": 27,
   "id": "6de89303",
   "metadata": {},
   "outputs": [],
   "source": [
    "#fill the holes in the lists with nulls\n",
    "def fillingHolesInLists(size):\n",
    "    columns = [Name ,Rate,Grade,Price,Review,LengthOfStay,TimeToTravel,DateOfVacation]\n",
    "    for i in columns:\n",
    "        if len(i) < size :\n",
    "            i+= [None for i in range(size - len(i))]"
   ]
  },
  {
   "cell_type": "code",
   "execution_count": 28,
   "id": "ca1c19bc",
   "metadata": {},
   "outputs": [],
   "source": [
    "fillingHolesInLists(15000)"
   ]
  },
  {
   "cell_type": "code",
   "execution_count": 29,
   "id": "5ebd542e",
   "metadata": {},
   "outputs": [
    {
     "data": {
      "text/plain": [
       "15000"
      ]
     },
     "execution_count": 29,
     "metadata": {},
     "output_type": "execute_result"
    }
   ],
   "source": [
    "len(Name)"
   ]
  },
  {
   "cell_type": "code",
   "execution_count": 30,
   "id": "3dc5b909",
   "metadata": {},
   "outputs": [
    {
     "data": {
      "text/html": [
       "<div>\n",
       "<style scoped>\n",
       "    .dataframe tbody tr th:only-of-type {\n",
       "        vertical-align: middle;\n",
       "    }\n",
       "\n",
       "    .dataframe tbody tr th {\n",
       "        vertical-align: top;\n",
       "    }\n",
       "\n",
       "    .dataframe thead th {\n",
       "        text-align: right;\n",
       "    }\n",
       "</style>\n",
       "<table border=\"1\" class=\"dataframe\">\n",
       "  <thead>\n",
       "    <tr style=\"text-align: right;\">\n",
       "      <th></th>\n",
       "      <th>Name</th>\n",
       "      <th>Rate</th>\n",
       "      <th>Grade</th>\n",
       "      <th>Price</th>\n",
       "      <th>Review</th>\n",
       "      <th>DateOfVacation</th>\n",
       "      <th>SnapShotDate</th>\n",
       "      <th>LengthOfStay</th>\n",
       "      <th>TimeToTravel</th>\n",
       "    </tr>\n",
       "  </thead>\n",
       "  <tbody>\n",
       "    <tr>\n",
       "      <th>0</th>\n",
       "      <td>Hyatt Place New York Midtown South</td>\n",
       "      <td>8.6</td>\n",
       "      <td>Excellent</td>\n",
       "      <td>€229\\n€</td>\n",
       "      <td>(1,004 reviews)</td>\n",
       "      <td>2023-03-27-2023-03-28</td>\n",
       "      <td>2023-03-26</td>\n",
       "      <td>1 night</td>\n",
       "      <td>1.0</td>\n",
       "    </tr>\n",
       "    <tr>\n",
       "      <th>1</th>\n",
       "      <td>Hotel 32 32</td>\n",
       "      <td>8.0</td>\n",
       "      <td>Very good</td>\n",
       "      <td>€198\\n€</td>\n",
       "      <td>(1,301 reviews)</td>\n",
       "      <td>2023-03-27-2023-03-28</td>\n",
       "      <td>2023-03-26</td>\n",
       "      <td>1 night</td>\n",
       "      <td>1.0</td>\n",
       "    </tr>\n",
       "    <tr>\n",
       "      <th>2</th>\n",
       "      <td>The Westin New York at Times Square</td>\n",
       "      <td>8.6</td>\n",
       "      <td>Excellent</td>\n",
       "      <td>€354\\n€</td>\n",
       "      <td>(2,193 reviews)</td>\n",
       "      <td>2023-03-27-2023-03-28</td>\n",
       "      <td>2023-03-26</td>\n",
       "      <td>1 night</td>\n",
       "      <td>1.0</td>\n",
       "    </tr>\n",
       "    <tr>\n",
       "      <th>3</th>\n",
       "      <td>Doubletree by Hilton New York Times Square South</td>\n",
       "      <td>8.4</td>\n",
       "      <td>Very good</td>\n",
       "      <td>€171\\n€</td>\n",
       "      <td>(2,182 reviews)</td>\n",
       "      <td>2023-03-27-2023-03-28</td>\n",
       "      <td>2023-03-26</td>\n",
       "      <td>1 night</td>\n",
       "      <td>1.0</td>\n",
       "    </tr>\n",
       "    <tr>\n",
       "      <th>4</th>\n",
       "      <td>The Shoreham Hotel</td>\n",
       "      <td>7.8</td>\n",
       "      <td>Good</td>\n",
       "      <td>€138\\n€</td>\n",
       "      <td>(1,007 reviews)</td>\n",
       "      <td>2023-03-27-2023-03-28</td>\n",
       "      <td>2023-03-26</td>\n",
       "      <td>1 night</td>\n",
       "      <td>1.0</td>\n",
       "    </tr>\n",
       "  </tbody>\n",
       "</table>\n",
       "</div>"
      ],
      "text/plain": [
       "                                               Name Rate      Grade    Price  \\\n",
       "0                Hyatt Place New York Midtown South  8.6  Excellent  €229\\n€   \n",
       "1                                       Hotel 32 32  8.0  Very good  €198\\n€   \n",
       "2               The Westin New York at Times Square  8.6  Excellent  €354\\n€   \n",
       "3  Doubletree by Hilton New York Times Square South  8.4  Very good  €171\\n€   \n",
       "4                                The Shoreham Hotel  7.8       Good  €138\\n€   \n",
       "\n",
       "            Review         DateOfVacation SnapShotDate LengthOfStay  \\\n",
       "0  (1,004 reviews)  2023-03-27-2023-03-28   2023-03-26      1 night   \n",
       "1  (1,301 reviews)  2023-03-27-2023-03-28   2023-03-26      1 night   \n",
       "2  (2,193 reviews)  2023-03-27-2023-03-28   2023-03-26      1 night   \n",
       "3  (2,182 reviews)  2023-03-27-2023-03-28   2023-03-26      1 night   \n",
       "4  (1,007 reviews)  2023-03-27-2023-03-28   2023-03-26      1 night   \n",
       "\n",
       "   TimeToTravel  \n",
       "0           1.0  \n",
       "1           1.0  \n",
       "2           1.0  \n",
       "3           1.0  \n",
       "4           1.0  "
      ]
     },
     "execution_count": 30,
     "metadata": {},
     "output_type": "execute_result"
    }
   ],
   "source": [
    "#create the dataFrame\n",
    "expediaHotels3 = pd.DataFrame({'Name':Name,'Rate':Rate,'Grade':Grade,'Price':Price,'Review':Review,\n",
    "                              'DateOfVacation':DateOfVacation,'SnapShotDate':SnapShotDate ,'LengthOfStay':LengthOfStay,'TimeToTravel':TimeToTravel})\n",
    "expediaHotels3.head()"
   ]
  },
  {
   "cell_type": "code",
   "execution_count": 31,
   "id": "14693088",
   "metadata": {},
   "outputs": [
    {
     "name": "stdout",
     "output_type": "stream",
     "text": [
      "<class 'pandas.core.frame.DataFrame'>\n",
      "RangeIndex: 15000 entries, 0 to 14999\n",
      "Data columns (total 9 columns):\n",
      " #   Column          Non-Null Count  Dtype  \n",
      "---  ------          --------------  -----  \n",
      " 0   Name            13720 non-null  object \n",
      " 1   Rate            13720 non-null  object \n",
      " 2   Grade           13720 non-null  object \n",
      " 3   Price           13720 non-null  object \n",
      " 4   Review          13720 non-null  object \n",
      " 5   DateOfVacation  13720 non-null  object \n",
      " 6   SnapShotDate    15000 non-null  object \n",
      " 7   LengthOfStay    13720 non-null  object \n",
      " 8   TimeToTravel    13720 non-null  float64\n",
      "dtypes: float64(1), object(8)\n",
      "memory usage: 1.0+ MB\n"
     ]
    }
   ],
   "source": [
    "expediaHotels3.info()"
   ]
  },
  {
   "cell_type": "code",
   "execution_count": 32,
   "id": "82efb961",
   "metadata": {},
   "outputs": [],
   "source": [
    "#create the csv file\n",
    "expediaHotels3.to_csv('expediaHotels3.csv', index=False)"
   ]
  },
  {
   "cell_type": "code",
   "execution_count": null,
   "id": "ea7b7a6f",
   "metadata": {},
   "outputs": [],
   "source": []
  }
 ],
 "metadata": {
  "kernelspec": {
   "display_name": "Python 3 (ipykernel)",
   "language": "python",
   "name": "python3"
  },
  "language_info": {
   "codemirror_mode": {
    "name": "ipython",
    "version": 3
   },
   "file_extension": ".py",
   "mimetype": "text/x-python",
   "name": "python",
   "nbconvert_exporter": "python",
   "pygments_lexer": "ipython3",
   "version": "3.9.13"
  }
 },
 "nbformat": 4,
 "nbformat_minor": 5
}
