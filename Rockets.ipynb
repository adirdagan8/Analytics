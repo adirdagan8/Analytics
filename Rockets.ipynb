{
 "cells": [
  {
   "cell_type": "code",
   "execution_count": 1,
   "id": "ebc0e603",
   "metadata": {},
   "outputs": [],
   "source": [
    "#Imports\n",
    "\n",
    "import requests\n",
    "import json\n",
    "import re\n",
    "import numpy as np\n",
    "import pandas as pd\n",
    "from googletrans import Translator\n",
    "from bs4 import BeautifulSoup\n",
    "import matplotlib.pyplot as plt\n",
    "from selenium import webdriver\n",
    "from selenium.webdriver.common.keys import Keys\n",
    "from bs4 import BeautifulSoup\n",
    "import time\n",
    "from datetime import datetime, timedelta, date"
   ]
  },
  {
   "cell_type": "markdown",
   "id": "1e7a6398",
   "metadata": {},
   "source": [
    "# Load"
   ]
  },
  {
   "cell_type": "markdown",
   "id": "c49fe509",
   "metadata": {},
   "source": [
    "Rockets"
   ]
  },
  {
   "cell_type": "code",
   "execution_count": 24,
   "id": "ca3ec56a",
   "metadata": {},
   "outputs": [],
   "source": [
    "#Exract\n",
    "\n",
    "# Define your start and end dates\n",
    "start_date = datetime(2014, 7, 24)\n",
    "end_date =  datetime.today()\n",
    "\n",
    "\n",
    "\n",
    "#Columns    \n",
    "ID = []\n",
    "Area = []\n",
    "Date = []\n",
    "Time = []\n",
    "Category = []\n",
    "\n",
    "# Define the step, in this case, one day\n",
    "step = timedelta(days=1)\n",
    "\n",
    "# Loop through the dates\n",
    "current_date = start_date\n",
    "while current_date <= end_date:\n",
    "    url = f\"https://www.oref.org.il/Shared/Ajax/GetAlarmsHistory.aspx?lang=he&fromDate={current_date}&toDate={current_date}&mode=0\"\n",
    "    response = requests.get(url)\n",
    "\n",
    "    # Check if the request was successful (status code 200)\n",
    "    if response.status_code == 200:\n",
    "        json_data = response.json()\n",
    "    else:\n",
    "        print(f\"Failed to retrieve data. Status code: {response.status_code}\")\n",
    "        \n",
    "    for event in json_data:\n",
    "        ID.append(event[\"rid\"])\n",
    "        Area.append(event[\"data\"])\n",
    "        Date.append(event[\"date\"])\n",
    "        Time.append(event[\"time\"])\n",
    "        Category.append(event[\"category_desc\"])\n",
    "        \n",
    "    current_date += step\n",
    "        \n",
    "    \n",
    "  \n",
    "\n",
    "\n",
    "\n",
    "data = {\"ID\": ID, \"Area\": Area, \"Date\": Date, \"Time\": Time, \"Category\": Category}\n",
    "df = pd.DataFrame(data)\n"
   ]
  },
  {
   "cell_type": "code",
   "execution_count": 204,
   "id": "26a8aa0a",
   "metadata": {},
   "outputs": [],
   "source": [
    "Rockets = pd.read_csv(\"Rockets.csv\")"
   ]
  },
  {
   "cell_type": "markdown",
   "id": "4b41bc22",
   "metadata": {},
   "source": [
    "War"
   ]
  },
  {
   "cell_type": "code",
   "execution_count": 37,
   "id": "316ad3cb",
   "metadata": {},
   "outputs": [],
   "source": [
    "tables=pd.read_html(\"https://he.wikipedia.org/wiki/%D7%9E%D7%91%D7%A6%D7%A2%D7%99_%D7%A6%D7%91%D7%90_%D7%94%D7%92%D7%A0%D7%94_%D7%9C%D7%99%D7%A9%D7%A8%D7%90%D7%9C\")\n",
    "Wars = tables[15]"
   ]
  },
  {
   "cell_type": "code",
   "execution_count": 38,
   "id": "480eab2d",
   "metadata": {},
   "outputs": [
    {
     "data": {
      "text/plain": [
       "'Wars = pd.read_csv(\"Wars.csv\")\\nWars'"
      ]
     },
     "execution_count": 38,
     "metadata": {},
     "output_type": "execute_result"
    }
   ],
   "source": [
    "Wars = pd.read_csv(\"Wars.csv\")"
   ]
  },
  {
   "cell_type": "markdown",
   "id": "d3465a49",
   "metadata": {},
   "source": [
    "Cities"
   ]
  },
  {
   "cell_type": "code",
   "execution_count": 74,
   "id": "10410315",
   "metadata": {},
   "outputs": [],
   "source": [
    "tables=pd.read_html(\"https://he.wikipedia.org/wiki/%D7%A2%D7%A8%D7%99%D7%9D_%D7%91%D7%99%D7%A9%D7%A8%D7%90%D7%9C\")\n",
    "Cities = tables[0]"
   ]
  },
  {
   "cell_type": "code",
   "execution_count": 32,
   "id": "a7ea6e5a",
   "metadata": {},
   "outputs": [],
   "source": [
    "Cities = pd.read_csv(\"Cities.csv\")"
   ]
  },
  {
   "cell_type": "markdown",
   "id": "08f237c5",
   "metadata": {},
   "source": [
    "# Transform"
   ]
  },
  {
   "cell_type": "markdown",
   "id": "d1bc7a75",
   "metadata": {},
   "source": [
    "Rockets"
   ]
  },
  {
   "cell_type": "code",
   "execution_count": 61,
   "id": "4bebc608",
   "metadata": {},
   "outputs": [],
   "source": [
    "#load\n",
    "\n",
    "Rockets = pd.read_csv(\"Rockets.csv\")\n",
    "Rockets = Rockets.drop(['Unnamed: 0','Unnamed: 0.1'], axis=1)"
   ]
  },
  {
   "cell_type": "code",
   "execution_count": 62,
   "id": "c25ee2b8",
   "metadata": {},
   "outputs": [],
   "source": [
    "#Incremental\n",
    "\n",
    "# Define your start and end dates\n",
    "start_date = datetime(2014, 11, 10)\n",
    "end_date =  datetime.today().date()\n",
    "\n",
    "\n",
    "#Columns    \n",
    "ID = []\n",
    "Area = []\n",
    "Date = []\n",
    "Time = []\n",
    "Category = []\n",
    "\n",
    "\n",
    "url = f\"https://www.oref.org.il/Shared/Ajax/GetAlarmsHistory.aspx?lang=he&fromDate={start_date}&toDate={end_date}&mode=0\"\n",
    "response = requests.get(url)\n",
    "\n",
    "# Check if the request was successful (status code 200)\n",
    "if response.status_code == 200:\n",
    "    json_data = response.json()\n",
    "else:\n",
    "    print(f\"Failed to retrieve data. Status code: {response.status_code}\")\n",
    "    \n",
    "for event in json_data:\n",
    "    ID.append(event[\"rid\"])\n",
    "    Area.append(event[\"data\"])\n",
    "    Date.append(event[\"date\"])\n",
    "    Time.append(event[\"time\"])\n",
    "    Category.append(event[\"category_desc\"])\n",
    "    \n",
    "    \n",
    "data = {\"ID\": ID, \"Area\": Area, \"Date\": Date, \"Time\": Time, \"Category\": Category}\n",
    "df = pd.DataFrame(data)\n",
    "\n",
    "# Concatenate vertically\n",
    "Rockets = pd.concat([Rockets, df], ignore_index=True)"
   ]
  },
  {
   "cell_type": "code",
   "execution_count": 63,
   "id": "ffcdf925",
   "metadata": {},
   "outputs": [
    {
     "data": {
      "text/html": [
       "<div>\n",
       "<style scoped>\n",
       "    .dataframe tbody tr th:only-of-type {\n",
       "        vertical-align: middle;\n",
       "    }\n",
       "\n",
       "    .dataframe tbody tr th {\n",
       "        vertical-align: top;\n",
       "    }\n",
       "\n",
       "    .dataframe thead th {\n",
       "        text-align: right;\n",
       "    }\n",
       "</style>\n",
       "<table border=\"1\" class=\"dataframe\">\n",
       "  <thead>\n",
       "    <tr style=\"text-align: right;\">\n",
       "      <th></th>\n",
       "      <th>ID</th>\n",
       "      <th>Area</th>\n",
       "      <th>Date</th>\n",
       "      <th>Time</th>\n",
       "      <th>Category</th>\n",
       "    </tr>\n",
       "  </thead>\n",
       "  <tbody>\n",
       "    <tr>\n",
       "      <th>0</th>\n",
       "      <td>9</td>\n",
       "      <td>באר שבע 289</td>\n",
       "      <td>24.07.2014</td>\n",
       "      <td>17:06:49</td>\n",
       "      <td>ירי רקטות וטילים</td>\n",
       "    </tr>\n",
       "    <tr>\n",
       "      <th>1</th>\n",
       "      <td>8</td>\n",
       "      <td>באר שבע 288, באר שבע 289</td>\n",
       "      <td>24.07.2014</td>\n",
       "      <td>17:06:15</td>\n",
       "      <td>ירי רקטות וטילים</td>\n",
       "    </tr>\n",
       "    <tr>\n",
       "      <th>2</th>\n",
       "      <td>7</td>\n",
       "      <td>באר שבע 288</td>\n",
       "      <td>24.07.2014</td>\n",
       "      <td>17:06:14</td>\n",
       "      <td>ירי רקטות וטילים</td>\n",
       "    </tr>\n",
       "    <tr>\n",
       "      <th>3</th>\n",
       "      <td>6</td>\n",
       "      <td>באר שבע 288, באר שבע 291</td>\n",
       "      <td>24.07.2014</td>\n",
       "      <td>17:06:11</td>\n",
       "      <td>ירי רקטות וטילים</td>\n",
       "    </tr>\n",
       "    <tr>\n",
       "      <th>4</th>\n",
       "      <td>5</td>\n",
       "      <td>באר שבע 288, באר שבע 289, באר שבע 291</td>\n",
       "      <td>24.07.2014</td>\n",
       "      <td>17:06:08</td>\n",
       "      <td>ירי רקטות וטילים</td>\n",
       "    </tr>\n",
       "    <tr>\n",
       "      <th>...</th>\n",
       "      <td>...</td>\n",
       "      <td>...</td>\n",
       "      <td>...</td>\n",
       "      <td>...</td>\n",
       "      <td>...</td>\n",
       "    </tr>\n",
       "    <tr>\n",
       "      <th>23046</th>\n",
       "      <td>23132</td>\n",
       "      <td>מבקיעים</td>\n",
       "      <td>22.10.2023</td>\n",
       "      <td>11:03:45</td>\n",
       "      <td>ירי רקטות וטילים</td>\n",
       "    </tr>\n",
       "    <tr>\n",
       "      <th>23047</th>\n",
       "      <td>23131</td>\n",
       "      <td>גיאה</td>\n",
       "      <td>22.10.2023</td>\n",
       "      <td>11:03:45</td>\n",
       "      <td>ירי רקטות וטילים</td>\n",
       "    </tr>\n",
       "    <tr>\n",
       "      <th>23048</th>\n",
       "      <td>23130</td>\n",
       "      <td>אזור תעשייה הדרומי אשקלון</td>\n",
       "      <td>22.10.2023</td>\n",
       "      <td>11:03:45</td>\n",
       "      <td>ירי רקטות וטילים</td>\n",
       "    </tr>\n",
       "    <tr>\n",
       "      <th>23049</th>\n",
       "      <td>23127</td>\n",
       "      <td>אזור תעשייה הדרומי אשקלון</td>\n",
       "      <td>22.10.2023</td>\n",
       "      <td>10:16:17</td>\n",
       "      <td>ירי רקטות וטילים</td>\n",
       "    </tr>\n",
       "    <tr>\n",
       "      <th>23050</th>\n",
       "      <td>23126</td>\n",
       "      <td>אשקלון - דרום</td>\n",
       "      <td>22.10.2023</td>\n",
       "      <td>10:16:17</td>\n",
       "      <td>ירי רקטות וטילים</td>\n",
       "    </tr>\n",
       "  </tbody>\n",
       "</table>\n",
       "<p>23051 rows × 5 columns</p>\n",
       "</div>"
      ],
      "text/plain": [
       "          ID                                   Area        Date      Time  \\\n",
       "0          9                            באר שבע 289  24.07.2014  17:06:49   \n",
       "1          8               באר שבע 288, באר שבע 289  24.07.2014  17:06:15   \n",
       "2          7                            באר שבע 288  24.07.2014  17:06:14   \n",
       "3          6               באר שבע 288, באר שבע 291  24.07.2014  17:06:11   \n",
       "4          5  באר שבע 288, באר שבע 289, באר שבע 291  24.07.2014  17:06:08   \n",
       "...      ...                                    ...         ...       ...   \n",
       "23046  23132                                מבקיעים  22.10.2023  11:03:45   \n",
       "23047  23131                                   גיאה  22.10.2023  11:03:45   \n",
       "23048  23130              אזור תעשייה הדרומי אשקלון  22.10.2023  11:03:45   \n",
       "23049  23127              אזור תעשייה הדרומי אשקלון  22.10.2023  10:16:17   \n",
       "23050  23126                          אשקלון - דרום  22.10.2023  10:16:17   \n",
       "\n",
       "               Category  \n",
       "0      ירי רקטות וטילים  \n",
       "1      ירי רקטות וטילים  \n",
       "2      ירי רקטות וטילים  \n",
       "3      ירי רקטות וטילים  \n",
       "4      ירי רקטות וטילים  \n",
       "...                 ...  \n",
       "23046  ירי רקטות וטילים  \n",
       "23047  ירי רקטות וטילים  \n",
       "23048  ירי רקטות וטילים  \n",
       "23049  ירי רקטות וטילים  \n",
       "23050  ירי רקטות וטילים  \n",
       "\n",
       "[23051 rows x 5 columns]"
      ]
     },
     "execution_count": 63,
     "metadata": {},
     "output_type": "execute_result"
    }
   ],
   "source": [
    "Rockets"
   ]
  },
  {
   "cell_type": "code",
   "execution_count": 64,
   "id": "97ced144",
   "metadata": {},
   "outputs": [],
   "source": [
    "#Format\n",
    "\n",
    "Rockets['Date'] = pd.to_datetime(Rockets['Date'],format='%d.%m.%Y')\n",
    "Rockets['Temp'] = pd.to_datetime(Rockets['Time'])\n",
    "Rockets['Hour'] = Rockets['Temp'].dt.hour\n",
    "Rockets.drop('Temp', axis=1, inplace=True)"
   ]
  },
  {
   "cell_type": "code",
   "execution_count": 65,
   "id": "aa9291bb",
   "metadata": {},
   "outputs": [
    {
     "name": "stdout",
     "output_type": "stream",
     "text": [
      "Last Alarms\n"
     ]
    },
    {
     "data": {
      "text/html": [
       "<div>\n",
       "<style scoped>\n",
       "    .dataframe tbody tr th:only-of-type {\n",
       "        vertical-align: middle;\n",
       "    }\n",
       "\n",
       "    .dataframe tbody tr th {\n",
       "        vertical-align: top;\n",
       "    }\n",
       "\n",
       "    .dataframe thead th {\n",
       "        text-align: right;\n",
       "    }\n",
       "</style>\n",
       "<table border=\"1\" class=\"dataframe\">\n",
       "  <thead>\n",
       "    <tr style=\"text-align: right;\">\n",
       "      <th></th>\n",
       "      <th>ID</th>\n",
       "      <th>Area</th>\n",
       "      <th>Date</th>\n",
       "      <th>Time</th>\n",
       "      <th>Category</th>\n",
       "      <th>Hour</th>\n",
       "    </tr>\n",
       "  </thead>\n",
       "  <tbody>\n",
       "    <tr>\n",
       "      <th>21055</th>\n",
       "      <td>25122</td>\n",
       "      <td>כרם שלום</td>\n",
       "      <td>2023-11-16</td>\n",
       "      <td>16:47:29</td>\n",
       "      <td>ירי רקטות וטילים</td>\n",
       "      <td>16</td>\n",
       "    </tr>\n",
       "    <tr>\n",
       "      <th>21053</th>\n",
       "      <td>25124</td>\n",
       "      <td>סעד</td>\n",
       "      <td>2023-11-17</td>\n",
       "      <td>07:47:06</td>\n",
       "      <td>ירי רקטות וטילים</td>\n",
       "      <td>7</td>\n",
       "    </tr>\n",
       "    <tr>\n",
       "      <th>21054</th>\n",
       "      <td>25123</td>\n",
       "      <td>כפר עזה</td>\n",
       "      <td>2023-11-17</td>\n",
       "      <td>07:47:06</td>\n",
       "      <td>ירי רקטות וטילים</td>\n",
       "      <td>7</td>\n",
       "    </tr>\n",
       "    <tr>\n",
       "      <th>21052</th>\n",
       "      <td>25125</td>\n",
       "      <td>נירים</td>\n",
       "      <td>2023-11-17</td>\n",
       "      <td>08:31:37</td>\n",
       "      <td>ירי רקטות וטילים</td>\n",
       "      <td>8</td>\n",
       "    </tr>\n",
       "    <tr>\n",
       "      <th>21051</th>\n",
       "      <td>25126</td>\n",
       "      <td>כיסופים</td>\n",
       "      <td>2023-11-17</td>\n",
       "      <td>11:34:42</td>\n",
       "      <td>ירי רקטות וטילים</td>\n",
       "      <td>11</td>\n",
       "    </tr>\n",
       "  </tbody>\n",
       "</table>\n",
       "</div>"
      ],
      "text/plain": [
       "          ID      Area       Date      Time          Category  Hour\n",
       "21055  25122  כרם שלום 2023-11-16  16:47:29  ירי רקטות וטילים    16\n",
       "21053  25124       סעד 2023-11-17  07:47:06  ירי רקטות וטילים     7\n",
       "21054  25123   כפר עזה 2023-11-17  07:47:06  ירי רקטות וטילים     7\n",
       "21052  25125     נירים 2023-11-17  08:31:37  ירי רקטות וטילים     8\n",
       "21051  25126   כיסופים 2023-11-17  11:34:42  ירי רקטות וטילים    11"
      ]
     },
     "execution_count": 65,
     "metadata": {},
     "output_type": "execute_result"
    }
   ],
   "source": [
    "print(\"Last Alarms\")\n",
    "Rockets =Rockets.sort_values(['Date', 'Time'])\n",
    "Rockets.tail()"
   ]
  },
  {
   "cell_type": "code",
   "execution_count": 66,
   "id": "7412b2ed",
   "metadata": {},
   "outputs": [
    {
     "name": "stdout",
     "output_type": "stream",
     "text": [
      "the last alarm happened:\n",
      "11:34:42\n",
      "2023-11-17 00:00:00\n"
     ]
    }
   ],
   "source": [
    "print('the last alarm happened:')\n",
    "print(Rockets.iloc[-1]['Time'])\n",
    "print(Rockets.iloc[-1]['Date'])"
   ]
  },
  {
   "cell_type": "markdown",
   "id": "a0ca87bd",
   "metadata": {},
   "source": [
    "Haravot"
   ]
  },
  {
   "cell_type": "code",
   "execution_count": 67,
   "id": "7cf3cf88",
   "metadata": {},
   "outputs": [],
   "source": [
    "#only the war\n",
    "\n",
    "# Set the filter date\n",
    "start_date = pd.to_datetime('2023-10-07')\n",
    "\n",
    "# Filter the DataFrame\n",
    "Haravot = Rockets[Rockets['Date'] >= start_date]"
   ]
  },
  {
   "cell_type": "code",
   "execution_count": 68,
   "id": "717a3c28",
   "metadata": {},
   "outputs": [
    {
     "data": {
      "image/png": "[encoded data removed]",
      "text/plain": [
       "<Figure size 720x432 with 1 Axes>"
      ]
     },
     "metadata": {
      "needs_background": "light"
     },
     "output_type": "display_data"
    }
   ],
   "source": [
    "# Create a DataFrame with value counts of 'hour_column'\n",
    "hour_counts = Haravot['Hour'].value_counts().sort_index().reset_index()\n",
    "hour_counts.columns = ['Hour', 'Count']\n",
    "\n",
    "# Plot the value counts using a bar plot\n",
    "plt.figure(figsize=(10, 6))\n",
    "plt.bar(hour_counts['Hour'], hour_counts['Count'], color='skyblue')\n",
    "plt.title('Value Counts of Hour Column')\n",
    "plt.xlabel('Hour')\n",
    "plt.ylabel('Count')\n",
    "plt.grid(axis='y', linestyle='--', alpha=0.7)\n",
    "plt.show()"
   ]
  },
  {
   "cell_type": "code",
   "execution_count": 69,
   "id": "dd8024cc",
   "metadata": {},
   "outputs": [
    {
     "data": {
      "image/png": "[encoded data removed]",
      "text/plain": [
       "<Figure size 864x432 with 1 Axes>"
      ]
     },
     "metadata": {
      "needs_background": "light"
     },
     "output_type": "display_data"
    }
   ],
   "source": [
    "import pandas as pd\n",
    "import matplotlib.pyplot as plt\n",
    "\n",
    "\n",
    "# Create a DataFrame with value counts of 'timestamp_column' by date\n",
    "date_counts = Haravot['Date'].dt.date.value_counts().sort_index().reset_index()\n",
    "date_counts.columns = ['Date', 'Count']\n",
    "\n",
    "# Plot the value counts using a bar plot\n",
    "plt.figure(figsize=(12, 6))\n",
    "plt.bar(date_counts['Date'], date_counts['Count'], color='salmon')\n",
    "plt.title('Value Counts of Timestamp Column by Date')\n",
    "plt.xlabel('Date')\n",
    "plt.ylabel('Count')\n",
    "plt.grid(axis='y', linestyle='--', alpha=0.7)\n",
    "plt.xticks(rotation=45)\n",
    "plt.show()\n"
   ]
  },
  {
   "cell_type": "code",
   "execution_count": 70,
   "id": "66f7dca8",
   "metadata": {},
   "outputs": [
    {
     "name": "stderr",
     "output_type": "stream",
     "text": [
      "C:\\Users\\USER\\AppData\\Local\\Temp\\ipykernel_5360\\2756040556.py:12: SettingWithCopyWarning: \n",
      "A value is trying to be set on a copy of a slice from a DataFrame.\n",
      "Try using .loc[row_indexer,col_indexer] = value instead\n",
      "\n",
      "See the caveats in the documentation: https://pandas.pydata.org/pandas-docs/stable/user_guide/indexing.html#returning-a-view-versus-a-copy\n",
      "  filtered_df['Area'] = [s[::-1] for s in list(filtered_df['Area'])]\n"
     ]
    },
    {
     "data": {
      "image/png": "[encoded data removed]",
      "text/plain": [
       "<Figure size 576x432 with 1 Axes>"
      ]
     },
     "metadata": {
      "needs_background": "light"
     },
     "output_type": "display_data"
    }
   ],
   "source": [
    "# Count values\n",
    "category_counts = Haravot['Area'].value_counts()\n",
    "\n",
    "\n",
    "top_categories = category_counts.nlargest(5).index\n",
    "\n",
    "# Filter the DataFrame to include only the top categories\n",
    "filtered_df = Haravot[Haravot['Area'].isin(top_categories)]\n",
    "\n",
    "#reversed\n",
    "list(filtered_df['Area'])\n",
    "filtered_df['Area'] = [s[::-1] for s in list(filtered_df['Area'])]\n",
    "\n",
    "\n",
    "# Plot a bar chart\n",
    "plt.figure(figsize=(8, 6))\n",
    "filtered_df['Area'].value_counts().plot(kind='barh', color='red')\n",
    "plt.title('5 Cities with the most Rockets')\n",
    "plt.xlabel('Area')\n",
    "plt.ylabel('Count')\n",
    "plt.show()"
   ]
  },
  {
   "cell_type": "markdown",
   "id": "36174200",
   "metadata": {},
   "source": [
    "cities"
   ]
  },
  {
   "cell_type": "code",
   "execution_count": 10,
   "id": "9aee4ca8",
   "metadata": {},
   "outputs": [],
   "source": [
    "tables=pd.read_html(\"https://he.wikipedia.org/wiki/%D7%A2%D7%A8%D7%99%D7%9D_%D7%91%D7%99%D7%A9%D7%A8%D7%90%D7%9C\")\n",
    "Cities = tables[0]"
   ]
  },
  {
   "cell_type": "code",
   "execution_count": 11,
   "id": "9cc58e9e",
   "metadata": {},
   "outputs": [],
   "source": [
    "#Replace City Name\n",
    "\n",
    "Cities['שם העיר'].replace('תל אביב-יפו', 'תל אביב', inplace=True)\n",
    "Cities['שם העיר'].replace('בת ים', 'בת-ים', inplace=True)\n",
    "Cities['שם העיר'].replace('אום אל-פחם', 'אום אל פחם', inplace=True)\n",
    "Cities['שם העיר'].replace('באר יעקב[23]', 'באר יעקב', inplace=True)\n",
    "Cities['שם העיר'].replace('מעלות-תרשיחא', 'מעלות תרשיחא', inplace=True)\n",
    "Cities['שם העיר'].replace('מודיעין-מכבים-רעות', 'מודיעין', inplace=True)\n",
    "Cities['שם העיר'].replace('באקה אל-גרבייה', 'באקה אל גרבייה', inplace=True)\n",
    "\n",
    "#modeen elit\n",
    "\n",
    "new_value = 'מודיעין עילית'\n",
    "Rockets.loc[Rockets['Area'] == 'מודיעין עילית', 'Cities'] = new_value\n"
   ]
  },
  {
   "cell_type": "code",
   "execution_count": 12,
   "id": "1038be7c",
   "metadata": {},
   "outputs": [],
   "source": [
    "#Column Cities\n",
    "\n",
    "strings_to_check = list(Cities['שם העיר'])\n",
    "strings_to_check = sorted(strings_to_check, reverse=True)\n",
    "\n",
    "# Function to apply to each row\n",
    "def is_Contain_City(data):\n",
    "    # Check if any of the strings in the list are contained in the old column\n",
    "    for string in strings_to_check:\n",
    "        if string in data['Area']:\n",
    "            return string\n",
    "    \n",
    "    # If none of the strings are found, assign a default value\n",
    "    return 'NAN'\n",
    "\n",
    "# Apply the function to create a new column\n",
    "Rockets['Cities'] = Rockets.apply(is_Contain_City, axis=1)"
   ]
  },
  {
   "cell_type": "code",
   "execution_count": 13,
   "id": "6a2d9076",
   "metadata": {},
   "outputs": [],
   "source": [
    "# Perform left join on different columns\n",
    "merged_df = pd.merge(Rockets, Cities, left_on='Cities', right_on='שם העיר', how='right')"
   ]
  },
  {
   "cell_type": "code",
   "execution_count": 14,
   "id": "0ed97830",
   "metadata": {},
   "outputs": [
    {
     "name": "stdout",
     "output_type": "stream",
     "text": [
      "הערים ה\"בטוחות\" בישראל\n",
      "\n",
      "נוף הגליל\n",
      "טמרה\n",
      "סח'נין\n",
      "טירת כרמל\n",
      "עראבה\n",
      "מגדל העמק\n",
      "יקנעם עילית\n"
     ]
    }
   ],
   "source": [
    "print('הערים ה\"בטוחות\" בישראל')\n",
    "print('')\n",
    "\n",
    "Safe = list(merged_df[merged_df['Cities'].isna()]['שם העיר'])\n",
    "for x in range(len(Safe)):\n",
    "    print(Safe[x])\n"
   ]
  },
  {
   "cell_type": "markdown",
   "id": "cd101713",
   "metadata": {},
   "source": [
    "Wars\n"
   ]
  },
  {
   "cell_type": "code",
   "execution_count": 15,
   "id": "6a815b94",
   "metadata": {},
   "outputs": [
    {
     "data": {
      "text/html": [
       "<div>\n",
       "<style scoped>\n",
       "    .dataframe tbody tr th:only-of-type {\n",
       "        vertical-align: middle;\n",
       "    }\n",
       "\n",
       "    .dataframe tbody tr th {\n",
       "        vertical-align: top;\n",
       "    }\n",
       "\n",
       "    .dataframe thead th {\n",
       "        text-align: right;\n",
       "    }\n",
       "</style>\n",
       "<table border=\"1\" class=\"dataframe\">\n",
       "  <thead>\n",
       "    <tr style=\"text-align: right;\">\n",
       "      <th></th>\n",
       "      <th>Unnamed: 0</th>\n",
       "      <th>שם המבצע</th>\n",
       "      <th>מטרת המבצע</th>\n",
       "      <th>Start Date</th>\n",
       "      <th>End Date</th>\n",
       "    </tr>\n",
       "  </thead>\n",
       "  <tbody>\n",
       "    <tr>\n",
       "      <th>9</th>\n",
       "      <td>20</td>\n",
       "      <td>מבצע עלות השחר</td>\n",
       "      <td>מבצע של צה\"ל שבמהלכו תקף חיל האוויר הישראלי שו...</td>\n",
       "      <td>5.8.2022</td>\n",
       "      <td>7.8.2022</td>\n",
       "    </tr>\n",
       "    <tr>\n",
       "      <th>10</th>\n",
       "      <td>21</td>\n",
       "      <td>מבצע ענפי זית</td>\n",
       "      <td>מבצע של צה\"ל ומנגנוני ביטחון רבים, שבמהלכו נשל...</td>\n",
       "      <td>6.2.2023</td>\n",
       "      <td>15.2.2023</td>\n",
       "    </tr>\n",
       "    <tr>\n",
       "      <th>11</th>\n",
       "      <td>22</td>\n",
       "      <td>מבצע מגן וחץ</td>\n",
       "      <td>מבצע של צה\"ל שבו הרג חיל האוויר הישראלי שישה מ...</td>\n",
       "      <td>9.5.2023</td>\n",
       "      <td>13.5.2023</td>\n",
       "    </tr>\n",
       "    <tr>\n",
       "      <th>12</th>\n",
       "      <td>23</td>\n",
       "      <td>מבצע בית וגן</td>\n",
       "      <td>מבצע צבאי של צה\"ל ושירות הביטחון הכללי במחנה ה...</td>\n",
       "      <td>3.7.2023</td>\n",
       "      <td>5.7.2023</td>\n",
       "    </tr>\n",
       "    <tr>\n",
       "      <th>13</th>\n",
       "      <td>24</td>\n",
       "      <td>מלחמת חרבות ברזל</td>\n",
       "      <td>מתקפת פתע נרחבת של טרור פלסטיני מרצועת עזה על ...</td>\n",
       "      <td>7.10.2023</td>\n",
       "      <td>13.11.2023</td>\n",
       "    </tr>\n",
       "  </tbody>\n",
       "</table>\n",
       "</div>"
      ],
      "text/plain": [
       "    Unnamed: 0          שם המבצע  \\\n",
       "9           20    מבצע עלות השחר   \n",
       "10          21     מבצע ענפי זית   \n",
       "11          22      מבצע מגן וחץ   \n",
       "12          23      מבצע בית וגן   \n",
       "13          24  מלחמת חרבות ברזל   \n",
       "\n",
       "                                           מטרת המבצע Start Date    End Date  \n",
       "9   מבצע של צה\"ל שבמהלכו תקף חיל האוויר הישראלי שו...   5.8.2022    7.8.2022  \n",
       "10  מבצע של צה\"ל ומנגנוני ביטחון רבים, שבמהלכו נשל...   6.2.2023   15.2.2023  \n",
       "11  מבצע של צה\"ל שבו הרג חיל האוויר הישראלי שישה מ...   9.5.2023   13.5.2023  \n",
       "12  מבצע צבאי של צה\"ל ושירות הביטחון הכללי במחנה ה...   3.7.2023    5.7.2023  \n",
       "13  מתקפת פתע נרחבת של טרור פלסטיני מרצועת עזה על ...  7.10.2023  13.11.2023  "
      ]
     },
     "execution_count": 15,
     "metadata": {},
     "output_type": "execute_result"
    }
   ],
   "source": [
    "Wars = pd.read_csv(\"Wars_Hand.csv\")\n",
    "Wars.tail()"
   ]
  },
  {
   "cell_type": "code",
   "execution_count": 16,
   "id": "301cf937",
   "metadata": {},
   "outputs": [],
   "source": [
    "Wars['Start Date'] = pd.to_datetime(Wars['Start Date'],format='%d.%m.%Y')\n",
    "Wars['End Date'] = pd.to_datetime(Wars['End Date'],format='%d.%m.%Y')"
   ]
  },
  {
   "cell_type": "code",
   "execution_count": 17,
   "id": "d7a2441b",
   "metadata": {},
   "outputs": [],
   "source": [
    "Cross = pd.merge(Wars, Rockets, how='cross')"
   ]
  },
  {
   "cell_type": "code",
   "execution_count": 18,
   "id": "0ff493b1",
   "metadata": {},
   "outputs": [],
   "source": [
    "War_Alarms = Cross[(Cross['Date'] >= Cross['Start Date']) & (Cross['Date'] <= Cross['End Date'])]"
   ]
  },
  {
   "cell_type": "code",
   "execution_count": 19,
   "id": "f4a1efb5",
   "metadata": {},
   "outputs": [
    {
     "name": "stderr",
     "output_type": "stream",
     "text": [
      "C:\\Users\\USER\\AppData\\Local\\Temp\\ipykernel_5360\\1911626734.py:1: SettingWithCopyWarning: \n",
      "A value is trying to be set on a copy of a slice from a DataFrame.\n",
      "Try using .loc[row_indexer,col_indexer] = value instead\n",
      "\n",
      "See the caveats in the documentation: https://pandas.pydata.org/pandas-docs/stable/user_guide/indexing.html#returning-a-view-versus-a-copy\n",
      "  War_Alarms['Year'] = War_Alarms['Date'].dt.year\n"
     ]
    }
   ],
   "source": [
    "War_Alarms['Year'] = War_Alarms['Date'].dt.year"
   ]
  },
  {
   "cell_type": "code",
   "execution_count": 20,
   "id": "343bc763",
   "metadata": {},
   "outputs": [
    {
     "name": "stderr",
     "output_type": "stream",
     "text": [
      "C:\\Users\\USER\\AppData\\Local\\Temp\\ipykernel_5360\\1340434998.py:3: SettingWithCopyWarning: \n",
      "A value is trying to be set on a copy of a slice from a DataFrame.\n",
      "Try using .loc[row_indexer,col_indexer] = value instead\n",
      "\n",
      "See the caveats in the documentation: https://pandas.pydata.org/pandas-docs/stable/user_guide/indexing.html#returning-a-view-versus-a-copy\n",
      "  War_Alarms['שם המבצע'] = [s[::-1] for s in list(War_Alarms['שם המבצע'])]\n",
      "C:\\Users\\USER\\AppData\\Local\\Temp\\ipykernel_5360\\1340434998.py:5: SettingWithCopyWarning: \n",
      "A value is trying to be set on a copy of a slice from a DataFrame.\n",
      "Try using .loc[row_indexer,col_indexer] = value instead\n",
      "\n",
      "See the caveats in the documentation: https://pandas.pydata.org/pandas-docs/stable/user_guide/indexing.html#returning-a-view-versus-a-copy\n",
      "  War_Alarms['Event'] = War_Alarms['שם המבצע'] + ' ' + War_Alarms['Year'].astype(str)\n"
     ]
    },
    {
     "data": {
      "image/png": "[encoded data removed]",
      "text/plain": [
       "<Figure size 576x432 with 1 Axes>"
      ]
     },
     "metadata": {
      "needs_background": "light"
     },
     "output_type": "display_data"
    }
   ],
   "source": [
    "#reversed\n",
    "list(War_Alarms['שם המבצע'])\n",
    "War_Alarms['שם המבצע'] = [s[::-1] for s in list(War_Alarms['שם המבצע'])]\n",
    "\n",
    "War_Alarms['Event'] = War_Alarms['שם המבצע'] + ' ' + War_Alarms['Year'].astype(str)\n",
    "\n",
    "\n",
    "# Plot a bar chart\n",
    "plt.figure(figsize=(8, 6))\n",
    "War_Alarms['Event'].value_counts().plot(kind='barh', color='red')\n",
    "plt.title('Number Of Alarms per War')\n",
    "plt.xlabel('Count')\n",
    "plt.show()"
   ]
  },
  {
   "cell_type": "code",
   "execution_count": 21,
   "id": "003007da",
   "metadata": {},
   "outputs": [
    {
     "name": "stderr",
     "output_type": "stream",
     "text": [
      "C:\\Users\\USER\\AppData\\Local\\Temp\\ipykernel_5360\\2858484446.py:1: SettingWithCopyWarning: \n",
      "A value is trying to be set on a copy of a slice from a DataFrame.\n",
      "Try using .loc[row_indexer,col_indexer] = value instead\n",
      "\n",
      "See the caveats in the documentation: https://pandas.pydata.org/pandas-docs/stable/user_guide/indexing.html#returning-a-view-versus-a-copy\n",
      "  War_Alarms['Num_Of_Days'] = (War_Alarms['End Date'] - War_Alarms['Start Date']).dt.days + 1\n"
     ]
    }
   ],
   "source": [
    "War_Alarms['Num_Of_Days'] = (War_Alarms['End Date'] - War_Alarms['Start Date']).dt.days + 1"
   ]
  },
  {
   "cell_type": "code",
   "execution_count": 22,
   "id": "292dcd97",
   "metadata": {},
   "outputs": [],
   "source": [
    "view = War_Alarms[['Event', 'Num_Of_Days','End Date','ID']].copy()"
   ]
  },
  {
   "cell_type": "code",
   "execution_count": 23,
   "id": "3b41cc8c",
   "metadata": {},
   "outputs": [],
   "source": [
    "result = view.groupby('Event').agg({\n",
    "    'ID': ['count'],\n",
    "    'End Date': ['max'],\n",
    "    'Num_Of_Days': ['max']    \n",
    "}).reset_index()\n",
    "\n",
    "# Flatten the multi-level column names\n",
    "result.columns = [' '.join(col).strip() for col in result.columns.values]"
   ]
  },
  {
   "cell_type": "code",
   "execution_count": 24,
   "id": "d50befe2",
   "metadata": {},
   "outputs": [],
   "source": [
    "# Specify the indices of the rows you want to delete\n",
    "indices_to_delete = [1, 3]\n",
    "\n",
    "# Use the drop method to delete rows by index\n",
    "result = result.drop(indices_to_delete)"
   ]
  },
  {
   "cell_type": "code",
   "execution_count": 25,
   "id": "e45107f6",
   "metadata": {},
   "outputs": [],
   "source": [
    "result['Alarm_Per_Day'] = result['ID count'] / result['Num_Of_Days max']"
   ]
  },
  {
   "cell_type": "code",
   "execution_count": 26,
   "id": "d1bb3817",
   "metadata": {},
   "outputs": [
    {
     "data": {
      "image/png": "[encoded data removed]",
      "text/plain": [
       "<Figure size 1080x504 with 1 Axes>"
      ]
     },
     "metadata": {
      "needs_background": "light"
     },
     "output_type": "display_data"
    }
   ],
   "source": [
    "# Sort the DataFrame by the 'Year max' column\n",
    "result = result.sort_values(by='End Date max')\n",
    "\n",
    "# Plot the bar chart\n",
    "plt.figure(figsize=(15, 7))\n",
    "plt.bar(result['Event'], result['Alarm_Per_Day'])\n",
    "plt.title('Daily Alarms average by war')\n",
    "plt.xticks(rotation=45, ha='right', fontsize=12)\n",
    "plt.show()"
   ]
  },
  {
   "cell_type": "markdown",
   "id": "82449380",
   "metadata": {},
   "source": [
    "Hits"
   ]
  },
  {
   "cell_type": "code",
   "execution_count": 27,
   "id": "8f06acfd",
   "metadata": {},
   "outputs": [
    {
     "data": {
      "text/plain": [
       "\"\\n# Start a browser session (make sure to have the appropriate webdriver installed)\\ndriver = webdriver.Chrome()\\n\\n# Navigate to the page\\ndriver.get('https://news.google.com/search?q=site%3Aynet.co.il%20%22%D7%A4%D7%92%D7%99%D7%A2%D7%94%20%D7%99%D7%A9%D7%99%D7%A8%D7%94%22&hl=he&gl=IL&ceid=IL%3Ahe')\\n\\n# Scroll down (in this example, it scrolls down 5 times)\\nfor _ in range(5):\\n    driver.find_element_by_tag_name('body').send_keys(Keys.PAGE_DOWN)\\n    time.sleep(1)  # Optional: add a sleep to give time for content to load\\n\\n# Get the updated HTML source after scrolling\\nhtml_source = driver.page_source\\n\\n# Close the browser\\ndriver.quit()\\n\\n# Use BeautifulSoup to parse the updated HTML\\nsoup = BeautifulSoup(html_source, 'html.parser')\\n\\n# Now you can continue with your BeautifulSoup parsing as needed\""
      ]
     },
     "execution_count": 27,
     "metadata": {},
     "output_type": "execute_result"
    }
   ],
   "source": [
    "'''\n",
    "# Start a browser session (make sure to have the appropriate webdriver installed)\n",
    "driver = webdriver.Chrome()\n",
    "\n",
    "# Navigate to the page\n",
    "driver.get('https://news.google.com/search?q=site%3Aynet.co.il%20%22%D7%A4%D7%92%D7%99%D7%A2%D7%94%20%D7%99%D7%A9%D7%99%D7%A8%D7%94%22&hl=he&gl=IL&ceid=IL%3Ahe')\n",
    "\n",
    "# Scroll down (in this example, it scrolls down 5 times)\n",
    "for _ in range(5):\n",
    "    driver.find_element_by_tag_name('body').send_keys(Keys.PAGE_DOWN)\n",
    "    time.sleep(1)  # Optional: add a sleep to give time for content to load\n",
    "\n",
    "# Get the updated HTML source after scrolling\n",
    "html_source = driver.page_source\n",
    "\n",
    "# Close the browser\n",
    "driver.quit()\n",
    "\n",
    "# Use BeautifulSoup to parse the updated HTML\n",
    "soup = BeautifulSoup(html_source, 'html.parser')\n",
    "\n",
    "# Now you can continue with your BeautifulSoup parsing as needed'''"
   ]
  },
  {
   "cell_type": "code",
   "execution_count": 28,
   "id": "a59a2611",
   "metadata": {},
   "outputs": [],
   "source": [
    "\n",
    "\n",
    "# Replace 'YOUR_GOOGLE_NEWS_URL' with the actual URL you have\n",
    "url = 'https://news.google.com/search?q=site%3Aynet.co.il%20%22%D7%A4%D7%92%D7%99%D7%A2%D7%94%20%D7%99%D7%A9%D7%99%D7%A8%D7%94%22&hl=he&gl=IL&ceid=IL%3Ahe'\n",
    "\n",
    "# Send a GET request to the URL\n",
    "response = requests.get(url)\n",
    "\n",
    "# Check if the request was successful (status code 200)\n",
    "if response.status_code == 200:\n",
    "    # Parse the HTML content of the page\n",
    "    soup = BeautifulSoup(response.content, 'html.parser')\n",
    "\n",
    "    # Find all the titles on the page (modify the selector according to the HTML structure of the page)\n",
    "    titles = soup.find_all('h3', class_='ipQwMb ekueJc RD0gLb')  # Adjust class or tag accordingly\n",
    "    dates = soup.find_all('div', class_='SVJrMe')  # Adjust class or tag accordingly\n",
    "    # Extract text from the titles and store them in a list\n",
    "    title_texts = [title.get_text() for title in titles]\n",
    "    date_texts = [date.get_text() for date in dates]\n",
    "\n",
    "    # Create a DataFrame from the list of titles\n",
    "    Hits = pd.DataFrame({'Titles': title_texts,'Dates': date_texts})\n",
    "\n",
    "    # Optionally, you can save the DataFrame to a CSV file\n",
    "    df.to_csv('Hits.csv', index=False)\n",
    "else:\n",
    "    print(f\"Failed to retrieve the page. Status code: {response.status_code}\")\n"
   ]
  },
  {
   "cell_type": "code",
   "execution_count": 29,
   "id": "c284aa25",
   "metadata": {},
   "outputs": [
    {
     "data": {
      "text/html": [
       "<div>\n",
       "<style scoped>\n",
       "    .dataframe tbody tr th:only-of-type {\n",
       "        vertical-align: middle;\n",
       "    }\n",
       "\n",
       "    .dataframe tbody tr th {\n",
       "        vertical-align: top;\n",
       "    }\n",
       "\n",
       "    .dataframe thead th {\n",
       "        text-align: right;\n",
       "    }\n",
       "</style>\n",
       "<table border=\"1\" class=\"dataframe\">\n",
       "  <thead>\n",
       "    <tr style=\"text-align: right;\">\n",
       "      <th></th>\n",
       "      <th>Titles</th>\n",
       "      <th>Dates</th>\n",
       "    </tr>\n",
       "  </thead>\n",
       "  <tbody>\n",
       "    <tr>\n",
       "      <th>0</th>\n",
       "      <td>דיווח על פגיעה ישירה בבניין בקריית שמונה, צוותי מד\"א לא איתרו זירת נפילה</td>\n",
       "      <td>לפני 7 ימים</td>\n",
       "    </tr>\n",
       "    <tr>\n",
       "      <th>1</th>\n",
       "      <td>ועדת הכספים תדון בהרחבת מתווה הפיצויים לב\"ש, אשדוד ויישובי קו העימות - רק לאוקטובר</td>\n",
       "      <td>לפני 5 ימיםגד ליאורמאת גד ליאור</td>\n",
       "    </tr>\n",
       "    <tr>\n",
       "      <th>2</th>\n",
       "      <td>הותר לפרסום: שני חיילי צה\"ל נפצעו אתמול קשה מירי נ\"ט בגבול הצפון</td>\n",
       "      <td>לפני 4 ימיםיאיר קראוסמאת יאיר קראוס</td>\n",
       "    </tr>\n",
       "    <tr>\n",
       "      <th>3</th>\n",
       "      <td>האזעקות בצפון: התקבל דיווח ראשוני על פגיעה בבניין בק\"ש, אך לא אותרה זירת נפילה</td>\n",
       "      <td>לפני 7 ימים</td>\n",
       "    </tr>\n",
       "    <tr>\n",
       "      <th>4</th>\n",
       "      <td>שלמה נפגע אנושות מירי הנ\"ט בגליל העליון: \"זה נס שהוא עדיין חי\"</td>\n",
       "      <td>לפני 4 ימים</td>\n",
       "    </tr>\n",
       "    <tr>\n",
       "      <th>...</th>\n",
       "      <td>...</td>\n",
       "      <td>...</td>\n",
       "    </tr>\n",
       "    <tr>\n",
       "      <th>95</th>\n",
       "      <td>מטחים לדרום: 3 פצועים, פגיעה ישירה במפעל</td>\n",
       "      <td>11 בנוב׳ 2012</td>\n",
       "    </tr>\n",
       "    <tr>\n",
       "      <th>96</th>\n",
       "      <td>פגיעה ישירה בבית באשקלון, סריקות אחר לכודים</td>\n",
       "      <td>8 באוק׳</td>\n",
       "    </tr>\n",
       "    <tr>\n",
       "      <th>97</th>\n",
       "      <td>פגיעה ישירה באופנוע: כך נראה סיכול ממוקד</td>\n",
       "      <td>19 בינו׳ 2014אליאור לוימאת אליאור לוי</td>\n",
       "    </tr>\n",
       "    <tr>\n",
       "      <th>98</th>\n",
       "      <td>פגיעה ישירה בבית בנתיבות: \"לא רואים את הנזק הנפשי\"</td>\n",
       "      <td>13 בנוב׳ 2018</td>\n",
       "    </tr>\n",
       "    <tr>\n",
       "      <th>99</th>\n",
       "      <td>המטחים נמשכים: אזעקות בבאר שבע, אשדוד ואשקלון</td>\n",
       "      <td>17 במאי 2021אליאור לוי ביחד עם ‏מתן צורי ועם בני בן זקןמאת אליאור לוי ביחד עם ‏מתן צורי ועם בני בן זקן</td>\n",
       "    </tr>\n",
       "  </tbody>\n",
       "</table>\n",
       "<p>100 rows × 2 columns</p>\n",
       "</div>"
      ],
      "text/plain": [
       "                                                                                Titles  \\\n",
       "0             דיווח על פגיעה ישירה בבניין בקריית שמונה, צוותי מד\"א לא איתרו זירת נפילה   \n",
       "1   ועדת הכספים תדון בהרחבת מתווה הפיצויים לב\"ש, אשדוד ויישובי קו העימות - רק לאוקטובר   \n",
       "2                     הותר לפרסום: שני חיילי צה\"ל נפצעו אתמול קשה מירי נ\"ט בגבול הצפון   \n",
       "3       האזעקות בצפון: התקבל דיווח ראשוני על פגיעה בבניין בק\"ש, אך לא אותרה זירת נפילה   \n",
       "4                       שלמה נפגע אנושות מירי הנ\"ט בגליל העליון: \"זה נס שהוא עדיין חי\"   \n",
       "..                                                                                 ...   \n",
       "95                                            מטחים לדרום: 3 פצועים, פגיעה ישירה במפעל   \n",
       "96                                         פגיעה ישירה בבית באשקלון, סריקות אחר לכודים   \n",
       "97                                            פגיעה ישירה באופנוע: כך נראה סיכול ממוקד   \n",
       "98                                  פגיעה ישירה בבית בנתיבות: \"לא רואים את הנזק הנפשי\"   \n",
       "99                                       המטחים נמשכים: אזעקות בבאר שבע, אשדוד ואשקלון   \n",
       "\n",
       "                                                                                                     Dates  \n",
       "0                                                                                              לפני 7 ימים  \n",
       "1                                                                          לפני 5 ימיםגד ליאורמאת גד ליאור  \n",
       "2                                                                      לפני 4 ימיםיאיר קראוסמאת יאיר קראוס  \n",
       "3                                                                                              לפני 7 ימים  \n",
       "4                                                                                              לפני 4 ימים  \n",
       "..                                                                                                     ...  \n",
       "95                                                                                           11 בנוב׳ 2012  \n",
       "96                                                                                                 8 באוק׳  \n",
       "97                                                                   19 בינו׳ 2014אליאור לוימאת אליאור לוי  \n",
       "98                                                                                           13 בנוב׳ 2018  \n",
       "99  17 במאי 2021אליאור לוי ביחד עם ‏מתן צורי ועם בני בן זקןמאת אליאור לוי ביחד עם ‏מתן צורי ועם בני בן זקן  \n",
       "\n",
       "[100 rows x 2 columns]"
      ]
     },
     "execution_count": 29,
     "metadata": {},
     "output_type": "execute_result"
    }
   ],
   "source": [
    "# Set the display options to show more characters for the 'TextColumn'\n",
    "pd.set_option('display.max_colwidth', 1000)\n",
    "\n",
    "# Display the DataFrame\n",
    "Hits"
   ]
  },
  {
   "cell_type": "code",
   "execution_count": null,
   "id": "2bd7298b",
   "metadata": {},
   "outputs": [],
   "source": []
  },
  {
   "cell_type": "code",
   "execution_count": null,
   "id": "242952c6",
   "metadata": {},
   "outputs": [],
   "source": []
  }
 ],
 "metadata": {
  "kernelspec": {
   "display_name": "Python 3 (ipykernel)",
   "language": "python",
   "name": "python3"
  },
  "language_info": {
   "codemirror_mode": {
    "name": "ipython",
    "version": 3
   },
   "file_extension": ".py",
   "mimetype": "text/x-python",
   "name": "python",
   "nbconvert_exporter": "python",
   "pygments_lexer": "ipython3",
   "version": "3.9.12"
  }
 },
 "nbformat": 4,
 "nbformat_minor": 5
}
