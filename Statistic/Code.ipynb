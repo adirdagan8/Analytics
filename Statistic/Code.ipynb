{
 "cells": [
  {
   "cell_type": "markdown",
   "id": "fbb44f52",
   "metadata": {
    "hide_input": true
   },
   "source": [
    "# הכנה"
   ]
  },
  {
   "cell_type": "code",
   "execution_count": 1,
   "id": "e54c42c7",
   "metadata": {
    "hide_input": true
   },
   "outputs": [],
   "source": [
    "import pandas as pd\n",
    "import numpy as np\n",
    "import matplotlib.pyplot as plt\n",
    "import seaborn as sns\n",
    "from scipy.stats import f\n",
    "from scipy.stats import norm\n",
    "import math"
   ]
  },
  {
   "cell_type": "code",
   "execution_count": 2,
   "id": "6b7e788d",
   "metadata": {
    "hide_input": true
   },
   "outputs": [],
   "source": [
    "data = pd.read_csv(\"loan_data.csv\")"
   ]
  },
  {
   "cell_type": "code",
   "execution_count": 3,
   "id": "6fbec82d",
   "metadata": {
    "hide_input": true,
    "scrolled": true
   },
   "outputs": [
    {
     "data": {
      "text/html": [
       "<div>\n",
       "<style scoped>\n",
       "    .dataframe tbody tr th:only-of-type {\n",
       "        vertical-align: middle;\n",
       "    }\n",
       "\n",
       "    .dataframe tbody tr th {\n",
       "        vertical-align: top;\n",
       "    }\n",
       "\n",
       "    .dataframe thead th {\n",
       "        text-align: right;\n",
       "    }\n",
       "</style>\n",
       "<table border=\"1\" class=\"dataframe\">\n",
       "  <thead>\n",
       "    <tr style=\"text-align: right;\">\n",
       "      <th></th>\n",
       "      <th>credit.policy</th>\n",
       "      <th>purpose</th>\n",
       "      <th>int.rate</th>\n",
       "      <th>installment</th>\n",
       "      <th>log.annual.inc</th>\n",
       "      <th>dti</th>\n",
       "      <th>fico</th>\n",
       "      <th>days.with.cr.line</th>\n",
       "      <th>revol.bal</th>\n",
       "      <th>revol.util</th>\n",
       "      <th>inq.last.6mths</th>\n",
       "      <th>delinq.2yrs</th>\n",
       "      <th>pub.rec</th>\n",
       "      <th>not.fully.paid</th>\n",
       "      <th>gender</th>\n",
       "      <th>region</th>\n",
       "    </tr>\n",
       "  </thead>\n",
       "  <tbody>\n",
       "    <tr>\n",
       "      <th>0</th>\n",
       "      <td>1</td>\n",
       "      <td>all_other</td>\n",
       "      <td>0.1253</td>\n",
       "      <td>83.67</td>\n",
       "      <td>9.761463</td>\n",
       "      <td>16.32</td>\n",
       "      <td>692</td>\n",
       "      <td>7320.000000</td>\n",
       "      <td>1245</td>\n",
       "      <td>31.1</td>\n",
       "      <td>0</td>\n",
       "      <td>0</td>\n",
       "      <td>0</td>\n",
       "      <td>0</td>\n",
       "      <td>female</td>\n",
       "      <td>Center</td>\n",
       "    </tr>\n",
       "    <tr>\n",
       "      <th>1</th>\n",
       "      <td>1</td>\n",
       "      <td>debt_consolidation</td>\n",
       "      <td>0.1496</td>\n",
       "      <td>692.90</td>\n",
       "      <td>10.896739</td>\n",
       "      <td>11.78</td>\n",
       "      <td>682</td>\n",
       "      <td>1709.958333</td>\n",
       "      <td>25216</td>\n",
       "      <td>59.9</td>\n",
       "      <td>1</td>\n",
       "      <td>0</td>\n",
       "      <td>0</td>\n",
       "      <td>0</td>\n",
       "      <td>male</td>\n",
       "      <td>Center</td>\n",
       "    </tr>\n",
       "    <tr>\n",
       "      <th>2</th>\n",
       "      <td>1</td>\n",
       "      <td>home_improvement</td>\n",
       "      <td>0.1218</td>\n",
       "      <td>499.50</td>\n",
       "      <td>12.075394</td>\n",
       "      <td>10.19</td>\n",
       "      <td>717</td>\n",
       "      <td>3840.000000</td>\n",
       "      <td>19315</td>\n",
       "      <td>72.1</td>\n",
       "      <td>2</td>\n",
       "      <td>0</td>\n",
       "      <td>0</td>\n",
       "      <td>0</td>\n",
       "      <td>male</td>\n",
       "      <td>Center</td>\n",
       "    </tr>\n",
       "    <tr>\n",
       "      <th>3</th>\n",
       "      <td>1</td>\n",
       "      <td>major_purchase</td>\n",
       "      <td>0.1253</td>\n",
       "      <td>87.02</td>\n",
       "      <td>10.616241</td>\n",
       "      <td>13.54</td>\n",
       "      <td>687</td>\n",
       "      <td>2159.958333</td>\n",
       "      <td>9847</td>\n",
       "      <td>24.1</td>\n",
       "      <td>1</td>\n",
       "      <td>0</td>\n",
       "      <td>0</td>\n",
       "      <td>0</td>\n",
       "      <td>female</td>\n",
       "      <td>East</td>\n",
       "    </tr>\n",
       "    <tr>\n",
       "      <th>4</th>\n",
       "      <td>1</td>\n",
       "      <td>educational</td>\n",
       "      <td>0.0894</td>\n",
       "      <td>158.86</td>\n",
       "      <td>9.729134</td>\n",
       "      <td>14.93</td>\n",
       "      <td>732</td>\n",
       "      <td>3569.958333</td>\n",
       "      <td>6109</td>\n",
       "      <td>43.9</td>\n",
       "      <td>1</td>\n",
       "      <td>0</td>\n",
       "      <td>0</td>\n",
       "      <td>0</td>\n",
       "      <td>female</td>\n",
       "      <td>South</td>\n",
       "    </tr>\n",
       "  </tbody>\n",
       "</table>\n",
       "</div>"
      ],
      "text/plain": [
       "   credit.policy             purpose  int.rate  installment  log.annual.inc  \\\n",
       "0              1           all_other    0.1253        83.67        9.761463   \n",
       "1              1  debt_consolidation    0.1496       692.90       10.896739   \n",
       "2              1    home_improvement    0.1218       499.50       12.075394   \n",
       "3              1      major_purchase    0.1253        87.02       10.616241   \n",
       "4              1         educational    0.0894       158.86        9.729134   \n",
       "\n",
       "     dti  fico  days.with.cr.line  revol.bal  revol.util  inq.last.6mths  \\\n",
       "0  16.32   692        7320.000000       1245        31.1               0   \n",
       "1  11.78   682        1709.958333      25216        59.9               1   \n",
       "2  10.19   717        3840.000000      19315        72.1               2   \n",
       "3  13.54   687        2159.958333       9847        24.1               1   \n",
       "4  14.93   732        3569.958333       6109        43.9               1   \n",
       "\n",
       "   delinq.2yrs  pub.rec  not.fully.paid  gender  region  \n",
       "0            0        0               0  female  Center  \n",
       "1            0        0               0    male  Center  \n",
       "2            0        0               0    male  Center  \n",
       "3            0        0               0  female    East  \n",
       "4            0        0               0  female   South  "
      ]
     },
     "execution_count": 3,
     "metadata": {},
     "output_type": "execute_result"
    }
   ],
   "source": [
    "data.head()"
   ]
  },
  {
   "cell_type": "markdown",
   "id": "4acd8fe3",
   "metadata": {},
   "source": [
    "# שאלה 1"
   ]
  },
  {
   "cell_type": "code",
   "execution_count": 4,
   "id": "66604718",
   "metadata": {
    "hide_input": true
   },
   "outputs": [
    {
     "name": "stdout",
     "output_type": "stream",
     "text": [
      "Frequent: 0\n"
     ]
    }
   ],
   "source": [
    "print(\"Frequent:\",data['not.fully.paid'].value_counts().idxmax())"
   ]
  },
  {
   "cell_type": "code",
   "execution_count": 5,
   "id": "cead44d5",
   "metadata": {
    "hide_input": true
   },
   "outputs": [
    {
     "data": {
      "text/html": [
       "<div>\n",
       "<style scoped>\n",
       "    .dataframe tbody tr th:only-of-type {\n",
       "        vertical-align: middle;\n",
       "    }\n",
       "\n",
       "    .dataframe tbody tr th {\n",
       "        vertical-align: top;\n",
       "    }\n",
       "\n",
       "    .dataframe thead th {\n",
       "        text-align: right;\n",
       "    }\n",
       "</style>\n",
       "<table border=\"1\" class=\"dataframe\">\n",
       "  <thead>\n",
       "    <tr style=\"text-align: right;\">\n",
       "      <th></th>\n",
       "      <th>not.fully.paid</th>\n",
       "      <th>Count</th>\n",
       "    </tr>\n",
       "  </thead>\n",
       "  <tbody>\n",
       "    <tr>\n",
       "      <th>0</th>\n",
       "      <td>0</td>\n",
       "      <td>3257</td>\n",
       "    </tr>\n",
       "    <tr>\n",
       "      <th>1</th>\n",
       "      <td>1</td>\n",
       "      <td>754</td>\n",
       "    </tr>\n",
       "  </tbody>\n",
       "</table>\n",
       "</div>"
      ],
      "text/plain": [
       "   not.fully.paid  Count\n",
       "0               0   3257\n",
       "1               1    754"
      ]
     },
     "execution_count": 5,
     "metadata": {},
     "output_type": "execute_result"
    }
   ],
   "source": [
    "grouped = data[\"not.fully.paid\"].value_counts().reset_index()\n",
    "grouped = grouped.rename(columns = {'index' : \"not.fully.paid\", \"not.fully.paid\" : 'Count'})\n",
    "grouped"
   ]
  },
  {
   "cell_type": "code",
   "execution_count": 6,
   "id": "3dc587fb",
   "metadata": {},
   "outputs": [
    {
     "data": {
      "image/png": "[encoded data removed]",
      "text/plain": [
       "<Figure size 576x432 with 1 Axes>"
      ]
     },
     "metadata": {},
     "output_type": "display_data"
    }
   ],
   "source": [
    "grouped = data[\"not.fully.paid\"].value_counts().reset_index()\n",
    "grouped = grouped.rename(columns = {'index' : \"not.fully.paid\", \"not.fully.paid\" : 'Count'})\n",
    "colors = [\"#64FE2E\",\"#FA5858\"]\n",
    "fig = plt.figure(figsize=(8,6))\n",
    "ax = fig.add_axes([0,0,1,1])\n",
    "ax.axis('equal')\n",
    "not_fully_paid = grouped['not.fully.paid']\n",
    "Count = grouped['Count']\n",
    "plt.suptitle('not_fully_paid', fontsize=15)\n",
    "ax.pie(Count, labels = not_fully_paid,autopct='%1.2f%%',explode=[0,0.05],shadow=True,\n",
    "      colors=colors, startangle=25)\n",
    "plt.show()\n",
    "\n",
    "\n"
   ]
  },
  {
   "cell_type": "markdown",
   "id": "23129436",
   "metadata": {},
   "source": [
    "<font size=\"5\">A large majority of people don't repay the loan in full</font>"
   ]
  },
  {
   "cell_type": "markdown",
   "id": "6e29e80f",
   "metadata": {},
   "source": [
    "# שאלה 2"
   ]
  },
  {
   "cell_type": "code",
   "execution_count": 7,
   "id": "4ba02807",
   "metadata": {},
   "outputs": [
    {
     "name": "stdout",
     "output_type": "stream",
     "text": [
      "Frequent: Center\n"
     ]
    }
   ],
   "source": [
    "print(\"Frequent:\",data['region'].value_counts().idxmax())"
   ]
  },
  {
   "cell_type": "code",
   "execution_count": 8,
   "id": "4ed9bf44",
   "metadata": {},
   "outputs": [
    {
     "data": {
      "text/html": [
       "<div>\n",
       "<style scoped>\n",
       "    .dataframe tbody tr th:only-of-type {\n",
       "        vertical-align: middle;\n",
       "    }\n",
       "\n",
       "    .dataframe tbody tr th {\n",
       "        vertical-align: top;\n",
       "    }\n",
       "\n",
       "    .dataframe thead th {\n",
       "        text-align: right;\n",
       "    }\n",
       "</style>\n",
       "<table border=\"1\" class=\"dataframe\">\n",
       "  <thead>\n",
       "    <tr style=\"text-align: right;\">\n",
       "      <th></th>\n",
       "      <th>region</th>\n",
       "      <th>Count</th>\n",
       "    </tr>\n",
       "  </thead>\n",
       "  <tbody>\n",
       "    <tr>\n",
       "      <th>0</th>\n",
       "      <td>Center</td>\n",
       "      <td>1224</td>\n",
       "    </tr>\n",
       "    <tr>\n",
       "      <th>1</th>\n",
       "      <td>South</td>\n",
       "      <td>1047</td>\n",
       "    </tr>\n",
       "    <tr>\n",
       "      <th>2</th>\n",
       "      <td>East</td>\n",
       "      <td>924</td>\n",
       "    </tr>\n",
       "    <tr>\n",
       "      <th>3</th>\n",
       "      <td>West</td>\n",
       "      <td>816</td>\n",
       "    </tr>\n",
       "  </tbody>\n",
       "</table>\n",
       "</div>"
      ],
      "text/plain": [
       "   region  Count\n",
       "0  Center   1224\n",
       "1   South   1047\n",
       "2    East    924\n",
       "3    West    816"
      ]
     },
     "execution_count": 8,
     "metadata": {},
     "output_type": "execute_result"
    }
   ],
   "source": [
    "grouped = data[\"region\"].value_counts().reset_index()\n",
    "grouped = grouped.rename(columns = {'index' : \"region\", \"region\" : 'Count'})\n",
    "grouped"
   ]
  },
  {
   "cell_type": "code",
   "execution_count": 9,
   "id": "ac5ab9d9",
   "metadata": {},
   "outputs": [
    {
     "data": {
      "image/png": "[encoded data removed]",
      "text/plain": [
       "<Figure size 576x432 with 1 Axes>"
      ]
     },
     "metadata": {},
     "output_type": "display_data"
    }
   ],
   "source": [
    "colors = [\"#1874CD\",\"#FF8000\",\"#006400\",\"#FF0000\"]\n",
    "fig = plt.figure(figsize=(8,6))\n",
    "ax = fig.add_axes([0,0,1,1])\n",
    "ax.axis('equal')\n",
    "region = grouped['region']\n",
    "Count = grouped['Count']\n",
    "plt.suptitle('region', fontsize=15)\n",
    "ax.pie(Count, labels = region,autopct='%1.2f%%',explode=[0.05,0.05,0.05,0.05],shadow=True,\n",
    "      colors=colors, startangle=25)\n",
    "plt.show()"
   ]
  },
  {
   "cell_type": "markdown",
   "id": "fedd53f2",
   "metadata": {},
   "source": [
    "<font size=\"5\">The most common geographic area is in the central area</font>"
   ]
  },
  {
   "cell_type": "markdown",
   "id": "629a7b73",
   "metadata": {},
   "source": [
    "# שאלה 3"
   ]
  },
  {
   "cell_type": "code",
   "execution_count": 10,
   "id": "b0df5ef6",
   "metadata": {},
   "outputs": [
    {
     "name": "stdout",
     "output_type": "stream",
     "text": [
      "center measures\n",
      "Frequent: 0\n",
      "Median: 8153.0\n",
      "Mean: 19382.92346048367\n",
      "Middle of range: 476006.5\n"
     ]
    }
   ],
   "source": [
    "print(\"center measures\")\n",
    "print(\"Frequent:\",data['revol.bal'].value_counts().idxmax())\n",
    "print(\"Median:\",data['revol.bal'].median())\n",
    "print(\"Mean:\",data['revol.bal'].mean())\n",
    "print(\"Middle of range:\",(data['revol.bal'].min()+data['revol.bal'].max())/2)\n"
   ]
  },
  {
   "cell_type": "code",
   "execution_count": 11,
   "id": "41000680",
   "metadata": {},
   "outputs": [
    {
     "name": "stdout",
     "output_type": "stream",
     "text": [
      "dispersion indices\n",
      "Range: 952013\n",
      "IQR: 15305.5\n",
      "Std: 40628.686675327976\n"
     ]
    }
   ],
   "source": [
    "print(\"dispersion indices\")\n",
    "print(\"Range:\",data['revol.bal'].max()-data['revol.bal'].min())\n",
    "q3, q1 = np.percentile(data[\"revol.bal\"], [75 ,25])\n",
    "print(\"IQR:\",q3 - q1)\n",
    "print(\"Std:\",data['revol.bal'].std())"
   ]
  },
  {
   "cell_type": "code",
   "execution_count": 12,
   "id": "17b844fd",
   "metadata": {},
   "outputs": [
    {
     "data": {
      "image/png": "[encoded data removed]",
      "text/plain": [
       "<Figure size 432x288 with 1 Axes>"
      ]
     },
     "metadata": {
      "needs_background": "light"
     },
     "output_type": "display_data"
    }
   ],
   "source": [
    ">>> b = sns.boxplot(data = data,           \n",
    "                    y = \"revol.bal\",       # y axis column from data\n",
    "                    width = 0.4,        # The width of the boxes\n",
    "                    color = \"skyblue\",  # Box colour\n",
    "                    linewidth = 2,      # Thickness of the box lines\n",
    "                    showfliers = False)  # Sop showing the fliers"
   ]
  },
  {
   "cell_type": "code",
   "execution_count": 13,
   "id": "b7d39dc0",
   "metadata": {},
   "outputs": [
    {
     "data": {
      "image/png": "[encoded data removed]",
      "text/plain": [
       "<Figure size 432x288 with 1 Axes>"
      ]
     },
     "metadata": {
      "needs_background": "light"
     },
     "output_type": "display_data"
    }
   ],
   "source": [
    ">>> b = sns.boxplot(data = data,           \n",
    "                    y = \"revol.bal\",       # y axis column from data\n",
    "                    width = 0.4,        # The width of the boxes\n",
    "                    color = \"skyblue\",  # Box colour\n",
    "                    linewidth = 2,      # Thickness of the box lines\n",
    "                    showfliers = True)  # Sop showing the fliers"
   ]
  },
  {
   "cell_type": "code",
   "execution_count": 14,
   "id": "a81f36ed",
   "metadata": {},
   "outputs": [
    {
     "data": {
      "text/html": [
       "<div>\n",
       "<style scoped>\n",
       "    .dataframe tbody tr th:only-of-type {\n",
       "        vertical-align: middle;\n",
       "    }\n",
       "\n",
       "    .dataframe tbody tr th {\n",
       "        vertical-align: top;\n",
       "    }\n",
       "\n",
       "    .dataframe thead th {\n",
       "        text-align: right;\n",
       "    }\n",
       "</style>\n",
       "<table border=\"1\" class=\"dataframe\">\n",
       "  <thead>\n",
       "    <tr style=\"text-align: right;\">\n",
       "      <th></th>\n",
       "      <th>x</th>\n",
       "      <th>f</th>\n",
       "    </tr>\n",
       "  </thead>\n",
       "  <tbody>\n",
       "    <tr>\n",
       "      <th>0</th>\n",
       "      <td>(-0.001, 100000.0]</td>\n",
       "      <td>3860</td>\n",
       "    </tr>\n",
       "    <tr>\n",
       "      <th>1</th>\n",
       "      <td>(100000.0, 200000.0]</td>\n",
       "      <td>100</td>\n",
       "    </tr>\n",
       "    <tr>\n",
       "      <th>2</th>\n",
       "      <td>(200000.0, 300000.0]</td>\n",
       "      <td>42</td>\n",
       "    </tr>\n",
       "    <tr>\n",
       "      <th>3</th>\n",
       "      <td>(300000.0, 400000.0]</td>\n",
       "      <td>5</td>\n",
       "    </tr>\n",
       "    <tr>\n",
       "      <th>4</th>\n",
       "      <td>(400000.0, 500000.0]</td>\n",
       "      <td>2</td>\n",
       "    </tr>\n",
       "    <tr>\n",
       "      <th>5</th>\n",
       "      <td>(500000.0, 600000.0]</td>\n",
       "      <td>1</td>\n",
       "    </tr>\n",
       "    <tr>\n",
       "      <th>6</th>\n",
       "      <td>(900000.0, 1000000.0]</td>\n",
       "      <td>1</td>\n",
       "    </tr>\n",
       "    <tr>\n",
       "      <th>7</th>\n",
       "      <td>(600000.0, 700000.0]</td>\n",
       "      <td>0</td>\n",
       "    </tr>\n",
       "    <tr>\n",
       "      <th>8</th>\n",
       "      <td>(700000.0, 800000.0]</td>\n",
       "      <td>0</td>\n",
       "    </tr>\n",
       "    <tr>\n",
       "      <th>9</th>\n",
       "      <td>(800000.0, 900000.0]</td>\n",
       "      <td>0</td>\n",
       "    </tr>\n",
       "  </tbody>\n",
       "</table>\n",
       "</div>"
      ],
      "text/plain": [
       "                       x     f\n",
       "0     (-0.001, 100000.0]  3860\n",
       "1   (100000.0, 200000.0]   100\n",
       "2   (200000.0, 300000.0]    42\n",
       "3   (300000.0, 400000.0]     5\n",
       "4   (400000.0, 500000.0]     2\n",
       "5   (500000.0, 600000.0]     1\n",
       "6  (900000.0, 1000000.0]     1\n",
       "7   (600000.0, 700000.0]     0\n",
       "8   (700000.0, 800000.0]     0\n",
       "9   (800000.0, 900000.0]     0"
      ]
     },
     "execution_count": 14,
     "metadata": {},
     "output_type": "execute_result"
    }
   ],
   "source": [
    "frequant_table =data[['revol.bal']].apply(pd.Series.value_counts, bins=[0,100000,200000,300000,400000,500000,600000,700000,800000,900000,1000000]).reset_index()\n",
    "\n",
    "frequant_table.rename(columns = {'index':'x','revol.bal':'f'}, inplace = True)\n",
    "frequant_table"
   ]
  },
  {
   "cell_type": "markdown",
   "id": "237c04ff",
   "metadata": {},
   "source": [
    "<font size=\"5\">You can see the big difference between the mean and the median because of the outliers that are extreme</font>"
   ]
  },
  {
   "cell_type": "markdown",
   "id": "ac522f6b",
   "metadata": {},
   "source": [
    "# שאלה 4"
   ]
  },
  {
   "cell_type": "code",
   "execution_count": 15,
   "id": "1e726186",
   "metadata": {},
   "outputs": [
    {
     "name": "stdout",
     "output_type": "stream",
     "text": [
      "center measures\n",
      "Frequent: 0\n",
      "Median: 0.0\n",
      "Mean: 0.18150087260034903\n",
      "Middle of range: 6.5\n"
     ]
    }
   ],
   "source": [
    "print(\"center measures\")\n",
    "print(\"Frequent:\",data['delinq.2yrs'].value_counts().idxmax())\n",
    "print(\"Median:\",data['delinq.2yrs'].median())\n",
    "print(\"Mean:\",data['delinq.2yrs'].mean())\n",
    "print(\"Middle of range:\",(data['delinq.2yrs'].min()+data['delinq.2yrs'].max())/2)"
   ]
  },
  {
   "cell_type": "code",
   "execution_count": 16,
   "id": "6dffefb7",
   "metadata": {},
   "outputs": [
    {
     "name": "stdout",
     "output_type": "stream",
     "text": [
      "dispersion indices\n",
      "Range: 13\n",
      "IQR: 0.0\n",
      "Std: 0.6228939308293724\n"
     ]
    }
   ],
   "source": [
    "print(\"dispersion indices\")\n",
    "print(\"Range:\",data['delinq.2yrs'].max()-data['delinq.2yrs'].min())\n",
    "q3, q1 = np.percentile(data[\"delinq.2yrs\"], [75 ,25])\n",
    "print(\"IQR:\",q3 - q1)\n",
    "print(\"Std:\",data['delinq.2yrs'].std())"
   ]
  },
  {
   "cell_type": "code",
   "execution_count": 17,
   "id": "77c0bb46",
   "metadata": {},
   "outputs": [
    {
     "data": {
      "text/plain": [
       "Text(0.5, 1.0, 'Delay distribution of counts')"
      ]
     },
     "execution_count": 17,
     "metadata": {},
     "output_type": "execute_result"
    },
    {
     "data": {
      "image/png": "[encoded data removed]",
      "text/plain": [
       "<Figure size 1080x432 with 1 Axes>"
      ]
     },
     "metadata": {
      "needs_background": "light"
     },
     "output_type": "display_data"
    }
   ],
   "source": [
    "grouped = data[\"delinq.2yrs\"].value_counts().reset_index()\n",
    "grouped = grouped.rename(columns = {'delinq.2yrs' : \"count\", \"index\" : 'delinq.2yrs'})\n",
    "plt.figure(figsize=(15,6))\n",
    "sns.barplot(x='delinq.2yrs',y='count',data=grouped)\n",
    "plt.title(\"Delay distribution of counts\",size=15)"
   ]
  },
  {
   "cell_type": "code",
   "execution_count": 18,
   "id": "fdb2aa49",
   "metadata": {},
   "outputs": [
    {
     "data": {
      "text/html": [
       "<div>\n",
       "<style scoped>\n",
       "    .dataframe tbody tr th:only-of-type {\n",
       "        vertical-align: middle;\n",
       "    }\n",
       "\n",
       "    .dataframe tbody tr th {\n",
       "        vertical-align: top;\n",
       "    }\n",
       "\n",
       "    .dataframe thead th {\n",
       "        text-align: right;\n",
       "    }\n",
       "</style>\n",
       "<table border=\"1\" class=\"dataframe\">\n",
       "  <thead>\n",
       "    <tr style=\"text-align: right;\">\n",
       "      <th></th>\n",
       "      <th>delinq.2yrs</th>\n",
       "      <th>count</th>\n",
       "    </tr>\n",
       "  </thead>\n",
       "  <tbody>\n",
       "    <tr>\n",
       "      <th>0</th>\n",
       "      <td>0</td>\n",
       "      <td>3516</td>\n",
       "    </tr>\n",
       "    <tr>\n",
       "      <th>1</th>\n",
       "      <td>1</td>\n",
       "      <td>360</td>\n",
       "    </tr>\n",
       "    <tr>\n",
       "      <th>2</th>\n",
       "      <td>2</td>\n",
       "      <td>89</td>\n",
       "    </tr>\n",
       "    <tr>\n",
       "      <th>3</th>\n",
       "      <td>3</td>\n",
       "      <td>24</td>\n",
       "    </tr>\n",
       "    <tr>\n",
       "      <th>4</th>\n",
       "      <td>4</td>\n",
       "      <td>12</td>\n",
       "    </tr>\n",
       "    <tr>\n",
       "      <th>5</th>\n",
       "      <td>5</td>\n",
       "      <td>5</td>\n",
       "    </tr>\n",
       "    <tr>\n",
       "      <th>6</th>\n",
       "      <td>13</td>\n",
       "      <td>1</td>\n",
       "    </tr>\n",
       "    <tr>\n",
       "      <th>7</th>\n",
       "      <td>6</td>\n",
       "      <td>1</td>\n",
       "    </tr>\n",
       "    <tr>\n",
       "      <th>8</th>\n",
       "      <td>7</td>\n",
       "      <td>1</td>\n",
       "    </tr>\n",
       "    <tr>\n",
       "      <th>9</th>\n",
       "      <td>8</td>\n",
       "      <td>1</td>\n",
       "    </tr>\n",
       "    <tr>\n",
       "      <th>10</th>\n",
       "      <td>11</td>\n",
       "      <td>1</td>\n",
       "    </tr>\n",
       "  </tbody>\n",
       "</table>\n",
       "</div>"
      ],
      "text/plain": [
       "    delinq.2yrs  count\n",
       "0             0   3516\n",
       "1             1    360\n",
       "2             2     89\n",
       "3             3     24\n",
       "4             4     12\n",
       "5             5      5\n",
       "6            13      1\n",
       "7             6      1\n",
       "8             7      1\n",
       "9             8      1\n",
       "10           11      1"
      ]
     },
     "execution_count": 18,
     "metadata": {},
     "output_type": "execute_result"
    }
   ],
   "source": [
    "grouped"
   ]
  },
  {
   "cell_type": "markdown",
   "id": "4bbffbf3",
   "metadata": {},
   "source": [
    "<font size=\"5\">It can be seen that the distribution is long tail right and that mostly people are not late in payment</font>"
   ]
  },
  {
   "cell_type": "markdown",
   "id": "28eb33f3",
   "metadata": {},
   "source": [
    "# שאלה 5"
   ]
  },
  {
   "cell_type": "code",
   "execution_count": 19,
   "id": "9003f4d5",
   "metadata": {},
   "outputs": [],
   "source": [
    "zero_creditors = data[data[\"inq.last.6mths\"] == 0][\"fico\"].tolist()\n",
    "one_to_five_creditors = data[data[\"inq.last.6mths\"].between(1, 5)][\"fico\"].tolist()\n",
    "six_and_more_creditors = data[data[\"inq.last.6mths\"] >= 6][\"fico\"].tolist()"
   ]
  },
  {
   "cell_type": "code",
   "execution_count": 20,
   "id": "9cdcc765",
   "metadata": {},
   "outputs": [
    {
     "data": {
      "image/png": "[encoded data removed]",
      "text/plain": [
       "<Figure size 432x288 with 1 Axes>"
      ]
     },
     "metadata": {
      "needs_background": "light"
     },
     "output_type": "display_data"
    }
   ],
   "source": [
    "# Data for the boxplot\n",
    "data_box = [zero_creditors, one_to_five_creditors, six_and_more_creditors]\n",
    "\n",
    "# Boxplot labels\n",
    "labels = ['Zero Creditors', 'One to Five Creditors', 'Six and More Creditors']\n",
    "\n",
    "# Create the boxplot\n",
    "plt.boxplot(data_box, labels=labels)\n",
    "\n",
    "# Add title and axis labels\n",
    "plt.title('Boxplot of Creditors')\n",
    "plt.xlabel('Number of Creditors')\n",
    "plt.ylabel('Values')\n",
    "\n",
    "# Show the plot\n",
    "plt.show()"
   ]
  },
  {
   "cell_type": "code",
   "execution_count": 21,
   "id": "7bb8775d",
   "metadata": {},
   "outputs": [
    {
     "name": "stdout",
     "output_type": "stream",
     "text": [
      "Average of zero_creditors = 714.17\n",
      "Average of one_to_five_creditors = 700.89\n",
      "Average of six_and_more_creditors = 684.43\n"
     ]
    }
   ],
   "source": [
    "\n",
    "# Python program to get average of a list\n",
    "def Average(lst,str):\n",
    "     print(f\"Average of {str} =\", round(sum(lst) / len(lst), 2))\n",
    " \n",
    "Average(zero_creditors,\"zero_creditors\")\n",
    "Average(one_to_five_creditors,\"one_to_five_creditors\")\n",
    "Average(six_and_more_creditors,\"six_and_more_creditors\")\n"
   ]
  },
  {
   "cell_type": "code",
   "execution_count": 22,
   "id": "6db09242",
   "metadata": {},
   "outputs": [
    {
     "name": "stdout",
     "output_type": "stream",
     "text": [
      "SSB: 315824.7037104229\n",
      "DF between: 2\n",
      "MSB: 157912.35185521145\n",
      "DF within: 4008\n",
      "MSW: 1417.809392646862\n",
      "F: 111.37770187881887\n",
      "P-value: 1.1102230246251565e-16\n"
     ]
    }
   ],
   "source": [
    "# Combine the data into one array\n",
    "all_data = np.concatenate([zero_creditors, one_to_five_creditors, six_and_more_creditors])\n",
    "\n",
    "# Calculate the group means\n",
    "group_means = [np.mean(zero_creditors), np.mean(one_to_five_creditors), np.mean(six_and_more_creditors)]\n",
    "\n",
    "# Calculate the overall mean (grand mean)\n",
    "grand_mean = np.mean(all_data)\n",
    "\n",
    "# Calculate SSB\n",
    "SSB = sum([(len(lst) * (mean - grand_mean)**2) for lst, mean in zip([zero_creditors, one_to_five_creditors, six_and_more_creditors], group_means)])\n",
    "\n",
    "# Number of groups (lists)\n",
    "k = 3\n",
    "\n",
    "# Total number of observations\n",
    "total_observations = len(all_data)\n",
    "\n",
    "# Calculate DF between and DF within\n",
    "DF_between = k - 1\n",
    "DF_within = total_observations - k\n",
    "\n",
    "# Calculate MSB\n",
    "MSB = SSB / DF_between\n",
    "\n",
    "# Calculate MSW\n",
    "MSW = sum([(x - mean)**2 for lst, mean in zip([zero_creditors, one_to_five_creditors, six_and_more_creditors], group_means) for x in lst]) / DF_within\n",
    "\n",
    "# Calculate F-statistic\n",
    "F = MSB / MSW\n",
    "\n",
    "# Calculate the p-value using the F-distribution\n",
    "Pvalue = 1 - f.cdf(F, DF_between, DF_within)\n",
    "\n",
    "# Print the results\n",
    "print(\"SSB:\", SSB)\n",
    "print(\"DF between:\", DF_between)\n",
    "print(\"MSB:\", MSB)\n",
    "print(\"DF within:\", DF_within)\n",
    "print(\"MSW:\", MSW)\n",
    "print(\"F:\", F)\n",
    "print(\"P-value:\", Pvalue)\n"
   ]
  },
  {
   "cell_type": "markdown",
   "id": "18387e9e",
   "metadata": {},
   "source": [
    "<font size=\"5\">Conclusion:<br>\n",
    "    We reject the null hypothesis, you can see that the p-value is much smaller than 5% which means There is a difference in the credit score expectancy (fico) between people who have not been approached by creditors, people who have been approached by few creditors (1-5 times) and people who have been approached by many creditors.</font>"
   ]
  },
  {
   "cell_type": "markdown",
   "id": "577d6677",
   "metadata": {},
   "source": [
    "# שאלה 6"
   ]
  },
  {
   "cell_type": "code",
   "execution_count": 23,
   "id": "b2d9c469",
   "metadata": {},
   "outputs": [
    {
     "name": "stdout",
     "output_type": "stream",
     "text": [
      "Proportion of people who do not repay the loan in full from all people: 0.19\n"
     ]
    }
   ],
   "source": [
    "sample_proportion = round(sum(data[\"not.fully.paid\"]==1)/len(data[\"not.fully.paid\"]),2)\n",
    "sample_size = len(data)\n",
    "print(\"Proportion of people who do not repay the loan in full from all people:\",sample_proportion)"
   ]
  },
  {
   "cell_type": "markdown",
   "id": "b0506ae3",
   "metadata": {},
   "source": [
    "<font size=\"5\">There is no need to test hypotheses as soon as the sample proportion is larger while you want to check that the proportion is smaller.</font>"
   ]
  },
  {
   "cell_type": "code",
   "execution_count": 24,
   "id": "a3c05fc1",
   "metadata": {},
   "outputs": [
    {
     "name": "stdout",
     "output_type": "stream",
     "text": [
      "762.09\n",
      "3248.91\n",
      "Its bigger than 10\n"
     ]
    }
   ],
   "source": [
    "print(sample_size*sample_proportion)\n",
    "print(round(sample_size*(1-sample_proportion),2))\n",
    "print(\"Its bigger than 10\")"
   ]
  },
  {
   "cell_type": "code",
   "execution_count": 25,
   "id": "761cc5cb",
   "metadata": {},
   "outputs": [],
   "source": [
    "import numpy as np\n",
    "import matplotlib.pyplot as plt\n",
    "from scipy.stats import binom, norm\n",
    "\n",
    "\n",
    "n = sample_size   \n",
    "p_hat = sample_proportion\n",
    "P_0 = 0.05\n",
    "\n",
    "\n",
    "# Step 2: Create a binomial distribution object\n",
    "binomial_dist = binom(n, p_hat)\n",
    "\n",
    "# Step 3: Calculate the mean and standard deviation of the binomial distribution\n",
    "mean = p_hat\n",
    "std_dev = math.sqrt((p_hat*(1-p_hat)/n))\n",
    "\n",
    "# Step 4: Create a normal distribution object\n",
    "normal_dist = norm(loc=mean, scale=std_dev)"
   ]
  },
  {
   "cell_type": "code",
   "execution_count": 26,
   "id": "fc874bc8",
   "metadata": {},
   "outputs": [
    {
     "name": "stdout",
     "output_type": "stream",
     "text": [
      "Z_c:  40.68\n"
     ]
    }
   ],
   "source": [
    "Z_c = round((p_hat-P_0)/math.sqrt((P_0*(1-P_0))/n),2)\n",
    "print(\"Z_c: \", Z_c)"
   ]
  },
  {
   "cell_type": "code",
   "execution_count": 27,
   "id": "13ac77cb",
   "metadata": {},
   "outputs": [
    {
     "name": "stdout",
     "output_type": "stream",
     "text": [
      "p-value: 1.0\n"
     ]
    }
   ],
   "source": [
    "import scipy.stats as stats\n",
    "\n",
    "p_value =  stats.norm.cdf(Z_c)\n",
    "print(\"p-value:\", p_value)\n"
   ]
  },
  {
   "cell_type": "markdown",
   "id": "904b026e",
   "metadata": {},
   "source": [
    "<font size=\"5\">There is no minimum level of significance at which we would reject the null hypothesis.\n",
    "</font>"
   ]
  },
  {
   "cell_type": "markdown",
   "id": "979e5caa",
   "metadata": {},
   "source": [
    "# שאלה 7"
   ]
  },
  {
   "cell_type": "code",
   "execution_count": 28,
   "id": "13c03f99",
   "metadata": {},
   "outputs": [],
   "source": [
    "import numpy as np\n",
    "import matplotlib.pyplot as plt\n",
    "from scipy.stats import binom, norm\n",
    "\n",
    "\n",
    "n = sample_size   \n",
    "p_hat = sample_proportion\n",
    "P_0 = 0.10\n",
    "\n",
    "\n",
    "# Step 2: Create a binomial distribution object\n",
    "binomial_dist = binom(n, p_hat)\n",
    "\n",
    "# Step 3: Calculate the mean and standard deviation of the binomial distribution\n",
    "mean = p_hat\n",
    "std_dev = math.sqrt((p_hat*(1-p_hat)/n))\n",
    "\n",
    "# Step 4: Create a normal distribution object\n",
    "normal_dist = norm(loc=mean, scale=std_dev)"
   ]
  },
  {
   "cell_type": "code",
   "execution_count": 29,
   "id": "e60fe769",
   "metadata": {},
   "outputs": [
    {
     "name": "stdout",
     "output_type": "stream",
     "text": [
      "Z_c:  19.0\n"
     ]
    }
   ],
   "source": [
    "Z_c = round((p_hat-P_0)/math.sqrt((P_0*(1-P_0))/n),2)\n",
    "print(\"Z_c: \", Z_c)"
   ]
  },
  {
   "cell_type": "code",
   "execution_count": 30,
   "id": "c1de7448",
   "metadata": {},
   "outputs": [
    {
     "name": "stdout",
     "output_type": "stream",
     "text": [
      "p-value: 0.0\n"
     ]
    }
   ],
   "source": [
    "import scipy.stats as stats\n",
    "\n",
    "p_value = 1 - stats.norm.cdf(Z_c)\n",
    "print(\"p-value:\", p_value)"
   ]
  },
  {
   "cell_type": "markdown",
   "id": "2044a2aa",
   "metadata": {},
   "source": [
    "<font size=\"5\">At any level of significance we will reject the null hypothesis</font>"
   ]
  },
  {
   "cell_type": "markdown",
   "id": "d6737a06",
   "metadata": {},
   "source": [
    "# שאלה 8"
   ]
  },
  {
   "cell_type": "code",
   "execution_count": 31,
   "id": "068438c8",
   "metadata": {},
   "outputs": [
    {
     "name": "stdout",
     "output_type": "stream",
     "text": [
      "m_0:  3.5\n",
      "x_roof:  2.26\n",
      "s:  2.9132976261846495\n"
     ]
    }
   ],
   "source": [
    "m_0 = 3.5\n",
    "x_roof = round(data[\"inq.last.6mths\"].mean(),2)\n",
    "\n",
    "\n",
    "\n",
    "data2 = data[\"inq.last.6mths\"].tolist()\n",
    "n = len(data2)\n",
    "mean = np.mean(data2)\n",
    "squared_diff = [(x - mean) ** 2 for x in data2]\n",
    "sample_variance = sum(squared_diff) / (n - 1)\n",
    "s = np.sqrt(sample_variance)\n",
    "\n",
    "\n",
    "\n",
    "\n",
    "\n",
    "\n",
    "print(\"m_0: \",m_0 )\n",
    "print(\"x_roof: \",x_roof )\n",
    "print(\"s: \",s)"
   ]
  },
  {
   "cell_type": "code",
   "execution_count": 32,
   "id": "2967439a",
   "metadata": {},
   "outputs": [
    {
     "name": "stdout",
     "output_type": "stream",
     "text": [
      "Critical t-score: -1.6452337075933792\n",
      "t_obs:  -26.96\n"
     ]
    }
   ],
   "source": [
    "from scipy.stats import t\n",
    "\n",
    "significance_level = 0.05\n",
    "degrees_of_freedom = n-1\n",
    "\n",
    "\n",
    "critical_t_score = t.ppf(significance_level, degrees_of_freedom)\n",
    "\n",
    "t_obs = round((x_roof-m_0)/(s/math.sqrt(n)),2)\n",
    "\n",
    "\n",
    "\n",
    "\n",
    "\n",
    "print(\"Critical t-score:\", critical_t_score)\n",
    "print(\"t_obs: \",t_obs)\n"
   ]
  },
  {
   "cell_type": "markdown",
   "id": "046c856e",
   "metadata": {},
   "source": [
    "<font size=\"5\">In left hypothesis, the critical value  less than the discovered value means to reject the null hypothesis </font>"
   ]
  },
  {
   "cell_type": "markdown",
   "id": "360cee9d",
   "metadata": {},
   "source": [
    "# שאלה 9"
   ]
  },
  {
   "cell_type": "code",
   "execution_count": 33,
   "id": "5314e01c",
   "metadata": {},
   "outputs": [
    {
     "data": {
      "image/png": "[encoded data removed]",
      "text/plain": [
       "<IPython.core.display.Image object>"
      ]
     },
     "metadata": {},
     "output_type": "display_data"
    }
   ],
   "source": [
    "from IPython.display import Image, display\n",
    "display(Image(filename='Explain2.png'))"
   ]
  },
  {
   "cell_type": "code",
   "execution_count": 34,
   "id": "52e18e4f",
   "metadata": {},
   "outputs": [
    {
     "name": "stdout",
     "output_type": "stream",
     "text": [
      "Observed Table\n"
     ]
    },
    {
     "data": {
      "text/html": [
       "<style type=\"text/css\">\n",
       "#T_03cb8_row0_col0, #T_03cb8_row0_col1, #T_03cb8_row0_col2, #T_03cb8_row0_col3, #T_03cb8_row0_col4, #T_03cb8_row1_col0, #T_03cb8_row1_col1, #T_03cb8_row1_col2, #T_03cb8_row1_col3, #T_03cb8_row1_col4, #T_03cb8_row2_col0, #T_03cb8_row2_col1, #T_03cb8_row2_col2, #T_03cb8_row2_col3, #T_03cb8_row2_col4 {\n",
       "  text-align: center;\n",
       "}\n",
       "</style>\n",
       "<table id=\"T_03cb8\">\n",
       "  <thead>\n",
       "    <tr>\n",
       "      <th class=\"index_name level0\" >region</th>\n",
       "      <th id=\"T_03cb8_level0_col0\" class=\"col_heading level0 col0\" >Center</th>\n",
       "      <th id=\"T_03cb8_level0_col1\" class=\"col_heading level0 col1\" >East</th>\n",
       "      <th id=\"T_03cb8_level0_col2\" class=\"col_heading level0 col2\" >South</th>\n",
       "      <th id=\"T_03cb8_level0_col3\" class=\"col_heading level0 col3\" >West</th>\n",
       "      <th id=\"T_03cb8_level0_col4\" class=\"col_heading level0 col4\" >Total</th>\n",
       "    </tr>\n",
       "    <tr>\n",
       "      <th class=\"index_name level0\" >credit.policy</th>\n",
       "      <th class=\"blank col0\" >&nbsp;</th>\n",
       "      <th class=\"blank col1\" >&nbsp;</th>\n",
       "      <th class=\"blank col2\" >&nbsp;</th>\n",
       "      <th class=\"blank col3\" >&nbsp;</th>\n",
       "      <th class=\"blank col4\" >&nbsp;</th>\n",
       "    </tr>\n",
       "  </thead>\n",
       "  <tbody>\n",
       "    <tr>\n",
       "      <th id=\"T_03cb8_level0_row0\" class=\"row_heading level0 row0\" >0</th>\n",
       "      <td id=\"T_03cb8_row0_col0\" class=\"data row0 col0\" >537</td>\n",
       "      <td id=\"T_03cb8_row0_col1\" class=\"data row0 col1\" >405</td>\n",
       "      <td id=\"T_03cb8_row0_col2\" class=\"data row0 col2\" >459</td>\n",
       "      <td id=\"T_03cb8_row0_col3\" class=\"data row0 col3\" >360</td>\n",
       "      <td id=\"T_03cb8_row0_col4\" class=\"data row0 col4\" >1761</td>\n",
       "    </tr>\n",
       "    <tr>\n",
       "      <th id=\"T_03cb8_level0_row1\" class=\"row_heading level0 row1\" >1</th>\n",
       "      <td id=\"T_03cb8_row1_col0\" class=\"data row1 col0\" >687</td>\n",
       "      <td id=\"T_03cb8_row1_col1\" class=\"data row1 col1\" >519</td>\n",
       "      <td id=\"T_03cb8_row1_col2\" class=\"data row1 col2\" >588</td>\n",
       "      <td id=\"T_03cb8_row1_col3\" class=\"data row1 col3\" >456</td>\n",
       "      <td id=\"T_03cb8_row1_col4\" class=\"data row1 col4\" >2250</td>\n",
       "    </tr>\n",
       "    <tr>\n",
       "      <th id=\"T_03cb8_level0_row2\" class=\"row_heading level0 row2\" >Total</th>\n",
       "      <td id=\"T_03cb8_row2_col0\" class=\"data row2 col0\" >1224</td>\n",
       "      <td id=\"T_03cb8_row2_col1\" class=\"data row2 col1\" >924</td>\n",
       "      <td id=\"T_03cb8_row2_col2\" class=\"data row2 col2\" >1047</td>\n",
       "      <td id=\"T_03cb8_row2_col3\" class=\"data row2 col3\" >816</td>\n",
       "      <td id=\"T_03cb8_row2_col4\" class=\"data row2 col4\" >4011</td>\n",
       "    </tr>\n",
       "  </tbody>\n",
       "</table>\n"
      ],
      "text/plain": [
       "<pandas.io.formats.style.Styler at 0x2b791f0a400>"
      ]
     },
     "metadata": {},
     "output_type": "display_data"
    },
    {
     "name": "stdout",
     "output_type": "stream",
     "text": [
      "Expected\n"
     ]
    },
    {
     "data": {
      "text/html": [
       "<style type=\"text/css\">\n",
       "#T_9670c_row0_col0, #T_9670c_row0_col1, #T_9670c_row0_col2, #T_9670c_row0_col3, #T_9670c_row1_col0, #T_9670c_row1_col1, #T_9670c_row1_col2, #T_9670c_row1_col3 {\n",
       "  text-align: center;\n",
       "}\n",
       "</style>\n",
       "<table id=\"T_9670c\">\n",
       "  <thead>\n",
       "    <tr>\n",
       "      <th class=\"index_name level0\" >region</th>\n",
       "      <th id=\"T_9670c_level0_col0\" class=\"col_heading level0 col0\" >Center</th>\n",
       "      <th id=\"T_9670c_level0_col1\" class=\"col_heading level0 col1\" >East</th>\n",
       "      <th id=\"T_9670c_level0_col2\" class=\"col_heading level0 col2\" >South</th>\n",
       "      <th id=\"T_9670c_level0_col3\" class=\"col_heading level0 col3\" >West</th>\n",
       "    </tr>\n",
       "    <tr>\n",
       "      <th class=\"index_name level0\" >credit.policy</th>\n",
       "      <th class=\"blank col0\" >&nbsp;</th>\n",
       "      <th class=\"blank col1\" >&nbsp;</th>\n",
       "      <th class=\"blank col2\" >&nbsp;</th>\n",
       "      <th class=\"blank col3\" >&nbsp;</th>\n",
       "    </tr>\n",
       "  </thead>\n",
       "  <tbody>\n",
       "    <tr>\n",
       "      <th id=\"T_9670c_level0_row0\" class=\"row_heading level0 row0\" >0</th>\n",
       "      <td id=\"T_9670c_row0_col0\" class=\"data row0 col0\" >537</td>\n",
       "      <td id=\"T_9670c_row0_col1\" class=\"data row0 col1\" >406</td>\n",
       "      <td id=\"T_9670c_row0_col2\" class=\"data row0 col2\" >460</td>\n",
       "      <td id=\"T_9670c_row0_col3\" class=\"data row0 col3\" >358</td>\n",
       "    </tr>\n",
       "    <tr>\n",
       "      <th id=\"T_9670c_level0_row1\" class=\"row_heading level0 row1\" >1</th>\n",
       "      <td id=\"T_9670c_row1_col0\" class=\"data row1 col0\" >687</td>\n",
       "      <td id=\"T_9670c_row1_col1\" class=\"data row1 col1\" >518</td>\n",
       "      <td id=\"T_9670c_row1_col2\" class=\"data row1 col2\" >587</td>\n",
       "      <td id=\"T_9670c_row1_col3\" class=\"data row1 col3\" >458</td>\n",
       "    </tr>\n",
       "  </tbody>\n",
       "</table>\n"
      ],
      "text/plain": [
       "<pandas.io.formats.style.Styler at 0x2b7fee70af0>"
      ]
     },
     "metadata": {},
     "output_type": "display_data"
    },
    {
     "name": "stdout",
     "output_type": "stream",
     "text": [
      "Degrees of Freedom: 3\n",
      "Chi-Squared Value: 0.01937121873186496\n",
      "Critical Value: 7.814727903251179\n",
      "P-Value: 0.9992870948081555\n"
     ]
    }
   ],
   "source": [
    "# Create the Observed contingency table\n",
    "observed_table = pd.crosstab(data['credit.policy'], data['region'], margins=True, margins_name=\"Total\")\n",
    "\n",
    "\n",
    "\n",
    "\n",
    "\n",
    "# Style the table for better formatting\n",
    "styled_table = observed_table.style.format(\"{:.0f}\").set_properties(**{'text-align': 'center'})\n",
    "\n",
    "print(\"Observed Table\")\n",
    "\n",
    "# Display the styled Observed table with percentages and row/column sums\n",
    "display(styled_table)\n",
    "\n",
    "\n",
    "\n",
    "\n",
    "# Calculate the Expected contingency table by assuming independence\n",
    "expected_table = observed_table.copy()\n",
    "\n",
    "# Calculate expected values for each cell\n",
    "for row in expected_table.index[:-1]:\n",
    "    for col in expected_table.columns[:-1]:\n",
    "        expected_val = (expected_table.at[row, \"Total\"] * expected_table.at[\"Total\", col]) / expected_table.at[\"Total\", \"Total\"]\n",
    "        expected_table.at[row, col] = expected_val\n",
    "\n",
    "# Style the Expected table for better formatting as integers\n",
    "styled_expected_table = expected_table.iloc[:-1, :-1].style.format(\"{:.0f}\").set_properties(**{'text-align': 'center'})\n",
    "\n",
    "\n",
    "from scipy.stats import chi2_contingency\n",
    "# Perform the chi-squared test\n",
    "chi2, p, _, _ = chi2_contingency(observed_table.iloc[:-1, :-1].values)\n",
    "\n",
    "# Style the Expected table for better formatting as integers\n",
    "styled_expected_table = expected_table.iloc[:-1, :-1].style.format(\"{:.0f}\").set_properties(**{'text-align': 'center'})\n",
    "\n",
    "print(\"Expected\")\n",
    "# Display the styled Expected table with row/column sums\n",
    "display(styled_expected_table)\n",
    "\n",
    "styled_df = styled_expected_table.data  # Convert the Styler object back to a DataFrame\n",
    "rows, columns = styled_df.shape\n",
    "df = (rows-1) * (columns-1)\n",
    "alpha = 0.05\n",
    "critical_value = stats.chi2.ppf(1 - alpha, df)\n",
    "\n",
    "\n",
    "\n",
    "# Display the chi-squared test results\n",
    "print(\"Degrees of Freedom:\", df)\n",
    "print(\"Chi-Squared Value:\", chi2)\n",
    "print(\"Critical Value:\", critical_value)\n",
    "print(\"P-Value:\", p)"
   ]
  },
  {
   "cell_type": "markdown",
   "id": "54ccc78d",
   "metadata": {},
   "source": [
    "<font size=\"5\">There is no correlation between region and credit.policy</font>"
   ]
  },
  {
   "cell_type": "markdown",
   "id": "0ab6e7e4",
   "metadata": {},
   "source": [
    "# שאלה 10"
   ]
  },
  {
   "cell_type": "code",
   "execution_count": 35,
   "id": "b525c8bc",
   "metadata": {},
   "outputs": [
    {
     "name": "stdout",
     "output_type": "stream",
     "text": [
      "T1:  5.4638480109452985\n",
      "T2:  11.37349118\n"
     ]
    }
   ],
   "source": [
    "T1 = data[\"log.annual.inc\"].mean()/2\n",
    "T2 = float(data[\"log.annual.inc\"].sample(1))+1\n",
    "print(\"T1: \", T1)\n",
    "print(\"T2: \",  T2)"
   ]
  },
  {
   "cell_type": "code",
   "execution_count": 36,
   "id": "d4af1b7c",
   "metadata": {},
   "outputs": [
    {
     "name": "stdout",
     "output_type": "stream",
     "text": [
      "m: 10.927696021890597\n",
      "Sample Variance: 0.4489871018655286\n"
     ]
    }
   ],
   "source": [
    "true_mean = data[\"log.annual.inc\"].mean()\n",
    "sample_variance = np.var(data[\"log.annual.inc\"], ddof=1)\n",
    "\n",
    "\n",
    "print(\"m:\", true_mean)\n",
    "print(\"Sample Variance:\", sample_variance)"
   ]
  },
  {
   "cell_type": "code",
   "execution_count": 37,
   "id": "32314e9c",
   "metadata": {},
   "outputs": [
    {
     "name": "stdout",
     "output_type": "stream",
     "text": [
      "Estimated Value 1:\n",
      "T_1: 5.4638480109452985\n",
      "Variance: 0.4489871018655286\n",
      "Bias: -5.4638480109452985\n",
      "MSE: 29.853635086710895\n",
      "\n",
      "Estimated Value 2:\n",
      "T_2: 12.28978191\n",
      "Variance: 0.4489871018655286\n",
      "Bias: 1.3620858881094033\n",
      "MSE: 1.855277966586782\n"
     ]
    }
   ],
   "source": [
    "estimated_value_1 = data[\"log.annual.inc\"].mean()/2\n",
    "estimated_value_2 = float(data[\"log.annual.inc\"].sample(1))+1\n",
    "\n",
    "true_mean = data[\"log.annual.inc\"].mean()\n",
    "\n",
    "sample_variance = np.var(data[\"log.annual.inc\"], ddof=1)\n",
    "\n",
    "bias_1 = estimated_value_1 - true_mean\n",
    "bias_2 = estimated_value_2 - true_mean\n",
    "\n",
    "# Calculate mean squared error (MSE)\n",
    "mse_1 = np.mean((estimated_value_1 - true_mean) ** 2)\n",
    "mse_2 = np.mean((estimated_value_2 - true_mean) ** 2)\n",
    "\n",
    "# Display the results\n",
    "print(\"Estimated Value 1:\")\n",
    "print(\"T_1:\", estimated_value_1)\n",
    "print(\"Variance:\", sample_variance)\n",
    "print(\"Bias:\", bias_1)\n",
    "print(\"MSE:\", mse_1)\n",
    "\n",
    "print(\"\\nEstimated Value 2:\")\n",
    "print(\"T_2:\", estimated_value_2)\n",
    "print(\"Variance:\", sample_variance)\n",
    "print(\"Bias:\", bias_2)\n",
    "print(\"MSE:\", mse_2)\n"
   ]
  },
  {
   "cell_type": "markdown",
   "id": "99dd69c6",
   "metadata": {},
   "source": [
    "<font size=\"5\">Even though the second estimator looks very strange because the standard deviation is relatively low, it is better than the estimator that divides the average by 2 and lowers it dramatically (you can see this according to the MSE)</font>"
   ]
  },
  {
   "cell_type": "markdown",
   "id": "c3a91302",
   "metadata": {},
   "source": [
    "# שאלה 11"
   ]
  },
  {
   "cell_type": "code",
   "execution_count": 38,
   "id": "11e9f9ba",
   "metadata": {},
   "outputs": [
    {
     "name": "stdout",
     "output_type": "stream",
     "text": [
      "Unbiased Estimator of Standard Deviation: 0.67\n",
      "3 Random Values: 10.81977828 10.30949651 10.15767851\n",
      "Maximum Likelihood Estimate for mean: 10.43\n",
      "Sample Mean: 10.93\n"
     ]
    }
   ],
   "source": [
    "# Calculate the unbiased estimator of the standard deviation\n",
    "sample_mean = round(data['log.annual.inc'].mean(),2)\n",
    "n = len(data)\n",
    "unbiased_std = round(np.sqrt(((data['log.annual.inc'] - sample_mean)**2).sum() / (n - 1)),2)\n",
    "your_column_values = data['log.annual.inc'].sample(n=3).tolist()\n",
    "x_1 = your_column_values[0]\n",
    "x_2 = your_column_values[1]\n",
    "x_3 = your_column_values[2]\n",
    "data1 = np.array([x_1, x_2, x_3])\n",
    "mu_mle = round(np.mean(data1),2)\n",
    "\n",
    "\n",
    "\n",
    "\n",
    "print(\"Unbiased Estimator of Standard Deviation:\", unbiased_std)\n",
    "print(\"3 Random Values:\", x_1, x_2, x_3)\n",
    "print(\"Maximum Likelihood Estimate for mean:\", mu_mle)\n",
    "print(\"Sample Mean:\", sample_mean)"
   ]
  },
  {
   "cell_type": "markdown",
   "id": "3d4d4d21",
   "metadata": {},
   "source": [
    "<font size=\"5\">Our estimator from 3 points is very close to the sample mean and this is because the standard deviation is relatively low</font>"
   ]
  },
  {
   "cell_type": "markdown",
   "id": "211f4cdc",
   "metadata": {},
   "source": [
    "# שאלה 12"
   ]
  },
  {
   "cell_type": "code",
   "execution_count": 39,
   "id": "89ac0b1d",
   "metadata": {},
   "outputs": [
    {
     "name": "stdout",
     "output_type": "stream",
     "text": [
      "Proportion of people not repaying loan in full: 0.188\n",
      "1. Most Common Estimator: 0.188\n",
      "2. Conservative Estimator (upper value Wilson Score Interval): 0.2\n",
      "3. High MSE Estimator (Square Root): 0.434\n"
     ]
    }
   ],
   "source": [
    "# Calculate the sample size\n",
    "sample_size = len(data)\n",
    "\n",
    "# Calculate the number of people who did not repay the loan in full (1)\n",
    "not_paid_count = data[\"not.fully.paid\"].sum()\n",
    "\n",
    "# Calculate the proportion of people who did not repay the loan in full\n",
    "proportion_not_paid = not_paid_count / sample_size\n",
    "\n",
    "# 1. Most Common Estimator\n",
    "most_common_estimator = proportion_not_paid\n",
    "\n",
    "# 2. Conservative Estimator (using Wilson Score Interval)\n",
    "from statsmodels.stats.proportion import proportion_confint\n",
    "conf_interval = proportion_confint(not_paid_count, sample_size, method='wilson')\n",
    "conservative_estimator = conf_interval[1] \n",
    "\n",
    "\n",
    "\n",
    "# 3. High MSE Estimator (using simple sample mean)\n",
    "sample_mean_estimator = math.sqrt(data[\"not.fully.paid\"].mean())\n",
    "\n",
    "print(\"Proportion of people not repaying loan in full:\", round(proportion_not_paid,3))\n",
    "print(\"1. Most Common Estimator:\", round(most_common_estimator,3))\n",
    "print(\"2. Conservative Estimator (upper value Wilson Score Interval):\", round(conservative_estimator,3))\n",
    "print(\"3. High MSE Estimator (Square Root):\", round(sample_mean_estimator,3))\n"
   ]
  },
  {
   "cell_type": "code",
   "execution_count": 40,
   "id": "e7912428",
   "metadata": {
    "hide_input": true
   },
   "outputs": [
    {
     "data": {
      "image/png": "[encoded data removed]",
      "text/plain": [
       "<IPython.core.display.Image object>"
      ]
     },
     "metadata": {},
     "output_type": "display_data"
    }
   ],
   "source": [
    "from IPython.display import Image, display\n",
    "display(Image(filename='Explain.png'))"
   ]
  }
 ],
 "metadata": {
  "celltoolbar": "Edit Metadata",
  "kernelspec": {
   "display_name": "Python 3 (ipykernel)",
   "language": "python",
   "name": "python3"
  },
  "language_info": {
   "codemirror_mode": {
    "name": "ipython",
    "version": 3
   },
   "file_extension": ".py",
   "mimetype": "text/x-python",
   "name": "python",
   "nbconvert_exporter": "python",
   "pygments_lexer": "ipython3",
   "version": "3.9.12"
  }
 },
 "nbformat": 4,
 "nbformat_minor": 5
}
